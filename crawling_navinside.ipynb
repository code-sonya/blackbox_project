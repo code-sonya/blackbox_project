{
 "cells": [
  {
   "cell_type": "markdown",
   "metadata": {},
   "source": [
    "# 1. 네비인사이드:블랙박스 포럼 crawling"
   ]
  },
  {
   "cell_type": "markdown",
   "metadata": {},
   "source": [
    "### (1) 블랙박스 불평/불만 게시판 url 주소 리스트 저장"
   ]
  },
  {
   "cell_type": "markdown",
   "metadata": {},
   "source": [
    "1) import 모듈"
   ]
  },
  {
   "cell_type": "code",
   "execution_count": 24,
   "metadata": {
    "collapsed": true
   },
   "outputs": [],
   "source": [
    "import requests\n",
    "import re\n",
    "from bs4 import BeautifulSoup"
   ]
  },
  {
   "cell_type": "code",
   "execution_count": 25,
   "metadata": {
    "collapsed": true
   },
   "outputs": [],
   "source": [
    "base_url = 'http://www.navinside.com/bbs/zboard.php?id=forum_ins_blackbox&select_arrange=headnum&desc=asc&category=103\\\n",
    "&sn=off&ss=on&sc=on&keyword=&sn1=&divpage=15&page='"
   ]
  },
  {
   "cell_type": "markdown",
   "metadata": {},
   "source": [
    "2) url링크 주소를 담을 리스트 생성 (url_link)"
   ]
  },
  {
   "cell_type": "code",
   "execution_count": 26,
   "metadata": {
    "collapsed": true
   },
   "outputs": [],
   "source": [
    "url_link = []"
   ]
  },
  {
   "cell_type": "code",
   "execution_count": 27,
   "metadata": {},
   "outputs": [
    {
     "name": "stdout",
     "output_type": "stream",
     "text": [
      "1\n",
      "2\n",
      "3\n"
     ]
    }
   ],
   "source": [
    "for i in range(1,4):\n",
    "    try:\n",
    "        print i\n",
    "        res = requests.post(base_url+str(i))\n",
    "        soup = BeautifulSoup(res.text, 'html5lib')\n",
    "        td_list = soup.find_all('td', attrs = {'class' : 'ctl_sj'})\n",
    "        for td in td_list:\n",
    "            url_link.append(\"http://www.navinside.com/bbs/{}\".format( td.a['href']))\n",
    "    except:\n",
    "        break  "
   ]
  },
  {
   "cell_type": "markdown",
   "metadata": {},
   "source": [
    "3) 리스트에 크롤링된 url 링크 주소 확인"
   ]
  },
  {
   "cell_type": "code",
   "execution_count": 28,
   "metadata": {},
   "outputs": [
    {
     "data": {
      "text/plain": [
       "122"
      ]
     },
     "execution_count": 28,
     "metadata": {},
     "output_type": "execute_result"
    }
   ],
   "source": [
    "len(url_link)"
   ]
  },
  {
   "cell_type": "code",
   "execution_count": 29,
   "metadata": {},
   "outputs": [
    {
     "data": {
      "text/plain": [
       "'http://www.navinside.com/bbs/zboard.php?id=forum_ins_blackbox&page=3&sn1=&divpage=15&category=103&sn=off&ss=on&sc=on&select_arrange=headnum&desc=asc&no=22959'"
      ]
     },
     "execution_count": 29,
     "metadata": {},
     "output_type": "execute_result"
    }
   ],
   "source": [
    "url_link[121]"
   ]
  },
  {
   "cell_type": "markdown",
   "metadata": {},
   "source": [
    "### (2) 불평/불만 내용 리스트 저장"
   ]
  },
  {
   "cell_type": "markdown",
   "metadata": {},
   "source": [
    "1) import 모듈"
   ]
  },
  {
   "cell_type": "code",
   "execution_count": 60,
   "metadata": {
    "collapsed": true
   },
   "outputs": [],
   "source": [
    "from selenium import webdriver"
   ]
  },
  {
   "cell_type": "markdown",
   "metadata": {},
   "source": [
    "2) 블랙박스에 대한 불평/불만 내용을 담을 리스트 생성 (url_content)"
   ]
  },
  {
   "cell_type": "code",
   "execution_count": 61,
   "metadata": {
    "collapsed": true
   },
   "outputs": [],
   "source": [
    "url_title = []"
   ]
  },
  {
   "cell_type": "code",
   "execution_count": 62,
   "metadata": {
    "collapsed": true
   },
   "outputs": [],
   "source": [
    "url_content = []"
   ]
  },
  {
   "cell_type": "code",
   "execution_count": 63,
   "metadata": {},
   "outputs": [
    {
     "name": "stdout",
     "output_type": "stream",
     "text": [
      "(NoSuchElementException(), 'http://www.navinside.com/bbs/zboard.php?id=forum_ins_blackbox&page=2&sn1=&divpage=15&category=103&sn=off&ss=on&sc=on&select_arrange=headnum&desc=asc&no=29152')\n"
     ]
    }
   ],
   "source": [
    "chromedriver = './chromedriver'\n",
    "driver = webdriver.Chrome(chromedriver)\n",
    "for i in url_link:\n",
    "    #print i\n",
    "    driver.get(i)\n",
    "    try:\n",
    "        #mid_contents > div > table.xe_viewTb > tbody > tr:nth-child(1) > td.xe_viewSj\n",
    "        black_title = driver.find_element_by_css_selector(\"tbody > tr > td.xe_viewSj\")\n",
    "        #print black_title.text\n",
    "        url_title.append(black_title.text.encode('utf-8'))\n",
    "        black_content = driver.find_element_by_css_selector(\"div.xe_viewMemo\")\n",
    "        #black_content = black_content.text\n",
    "        #black_content = black_content.strip()\n",
    "        url_content.append(black_content.text.encode('utf-8'))\n",
    "    except Exception as e:\n",
    "        print (e , i)\n",
    "driver.quit()"
   ]
  },
  {
   "cell_type": "markdown",
   "metadata": {},
   "source": [
    "3) 리스트에 크롤링된 불평/불만 내용 확인"
   ]
  },
  {
   "cell_type": "code",
   "execution_count": 64,
   "metadata": {},
   "outputs": [
    {
     "name": "stdout",
     "output_type": "stream",
     "text": [
      "121\n"
     ]
    }
   ],
   "source": [
    "print len(url_title)"
   ]
  },
  {
   "cell_type": "code",
   "execution_count": 65,
   "metadata": {},
   "outputs": [
    {
     "name": "stdout",
     "output_type": "stream",
     "text": [
      "121\n"
     ]
    }
   ],
   "source": [
    "print len(url_content)"
   ]
  },
  {
   "cell_type": "code",
   "execution_count": 66,
   "metadata": {},
   "outputs": [
    {
     "name": "stdout",
     "output_type": "stream",
     "text": [
      "아이로드T8 설치후기\n"
     ]
    }
   ],
   "source": [
    "print url_title[1]"
   ]
  },
  {
   "cell_type": "markdown",
   "metadata": {},
   "source": [
    "# 2.정규표현식을 사용하여 크롤링 데이터 전처리"
   ]
  },
  {
   "cell_type": "code",
   "execution_count": 104,
   "metadata": {
    "collapsed": true
   },
   "outputs": [],
   "source": [
    "new_list = []"
   ]
  },
  {
   "cell_type": "code",
   "execution_count": 105,
   "metadata": {},
   "outputs": [
    {
     "data": {
      "text/plain": [
       "121"
      ]
     },
     "execution_count": 105,
     "metadata": {},
     "output_type": "execute_result"
    }
   ],
   "source": [
    "len(url_content)"
   ]
  },
  {
   "cell_type": "code",
   "execution_count": 106,
   "metadata": {
    "collapsed": true,
    "scrolled": false
   },
   "outputs": [],
   "source": [
    "for string in url_content:\n",
    "    replaced = re.sub(r'click=\"\" ( [\\w.-]+) />', r'', string)\n",
    "    #print(string)\n",
    "    replaced = re.sub(r'click=\"\" src=\"http://www.navinside.com/bbs/data/multi_new2011/[\\d.-]+/[\\w.-]+.jpg\" />', r'', string)\n",
    "    #replaced = re.sub(r'click=\"\" src=\"http://www.navinside.com/bbs/data/multi_new2011/[a-zA-Z_0-9]+.jpg\" />', r'', string)\n",
    "    replaced = replaced = re.sub(r'http://[a-zA-Z_0-9_._/_?_=_&]+', r'', replaced)\n",
    "    replaced = re.sub(r'-[_-]+', r'', replaced)\n",
    "    replaced = re.sub(r'=[_=]+', r'', replaced)\n",
    "    replaced = re.sub(r'\"', r'', replaced)\n",
    "    replaced = re.sub(r\"'\", r'', replaced)\n",
    "    #print replaced\n",
    "    new_list.append(replaced)"
   ]
  },
  {
   "cell_type": "code",
   "execution_count": 107,
   "metadata": {},
   "outputs": [
    {
     "name": "stdout",
     "output_type": "stream",
     "text": [
      "121\n"
     ]
    }
   ],
   "source": [
    "print len(new_list)"
   ]
  },
  {
   "cell_type": "markdown",
   "metadata": {},
   "source": [
    "# 3. AWS 서버 mysql db에  import"
   ]
  },
  {
   "cell_type": "code",
   "execution_count": 121,
   "metadata": {
    "collapsed": true
   },
   "outputs": [],
   "source": [
    "server = 'server_ip'\n",
    "db_id = 'root'\n",
    "db_pwd = 'password'\n",
    "db_db = 'db_name'"
   ]
  },
  {
   "cell_type": "code",
   "execution_count": 122,
   "metadata": {
    "collapsed": true
   },
   "outputs": [],
   "source": [
    "import MySQLdb\n",
    "db = MySQLdb.connect(server, db_id, db_pwd, db_db)\n",
    "\n",
    "cursor = db.cursor()"
   ]
  },
  {
   "cell_type": "code",
   "execution_count": 123,
   "metadata": {},
   "outputs": [
    {
     "data": {
      "text/plain": [
       "str"
      ]
     },
     "execution_count": 123,
     "metadata": {},
     "output_type": "execute_result"
    }
   ],
   "source": [
    "type(url_link[34])"
   ]
  },
  {
   "cell_type": "code",
   "execution_count": 124,
   "metadata": {},
   "outputs": [
    {
     "data": {
      "text/plain": [
       "str"
      ]
     },
     "execution_count": 124,
     "metadata": {},
     "output_type": "execute_result"
    }
   ],
   "source": [
    "type(url_title[34])"
   ]
  },
  {
   "cell_type": "code",
   "execution_count": 125,
   "metadata": {},
   "outputs": [
    {
     "data": {
      "text/plain": [
       "str"
      ]
     },
     "execution_count": 125,
     "metadata": {},
     "output_type": "execute_result"
    }
   ],
   "source": [
    "type(url_content[34])"
   ]
  },
  {
   "cell_type": "code",
   "execution_count": 126,
   "metadata": {},
   "outputs": [
    {
     "name": "stdout",
     "output_type": "stream",
     "text": [
      "http://www.navinside.com/bbs/zboard.php?id=forum_ins_blackbox&page=1&sn1=&divpage=15&category=103&sn=off&ss=on&sc=on&select_arrange=headnum&desc=asc&no=77569\n",
      "http://www.navinside.com/bbs/zboard.php?id=forum_ins_blackbox&page=1&sn1=&divpage=15&category=103&sn=off&ss=on&sc=on&select_arrange=headnum&desc=asc&no=77508\n",
      "http://www.navinside.com/bbs/zboard.php?id=forum_ins_blackbox&page=1&sn1=&divpage=15&category=103&sn=off&ss=on&sc=on&select_arrange=headnum&desc=asc&no=76851\n",
      "http://www.navinside.com/bbs/zboard.php?id=forum_ins_blackbox&page=1&sn1=&divpage=15&category=103&sn=off&ss=on&sc=on&select_arrange=headnum&desc=asc&no=76483\n",
      "http://www.navinside.com/bbs/zboard.php?id=forum_ins_blackbox&page=1&sn1=&divpage=15&category=103&sn=off&ss=on&sc=on&select_arrange=headnum&desc=asc&no=75880\n",
      "http://www.navinside.com/bbs/zboard.php?id=forum_ins_blackbox&page=1&sn1=&divpage=15&category=103&sn=off&ss=on&sc=on&select_arrange=headnum&desc=asc&no=74037\n",
      "http://www.navinside.com/bbs/zboard.php?id=forum_ins_blackbox&page=1&sn1=&divpage=15&category=103&sn=off&ss=on&sc=on&select_arrange=headnum&desc=asc&no=73927\n",
      "http://www.navinside.com/bbs/zboard.php?id=forum_ins_blackbox&page=1&sn1=&divpage=15&category=103&sn=off&ss=on&sc=on&select_arrange=headnum&desc=asc&no=73732\n",
      "http://www.navinside.com/bbs/zboard.php?id=forum_ins_blackbox&page=1&sn1=&divpage=15&category=103&sn=off&ss=on&sc=on&select_arrange=headnum&desc=asc&no=73603\n",
      "http://www.navinside.com/bbs/zboard.php?id=forum_ins_blackbox&page=1&sn1=&divpage=15&category=103&sn=off&ss=on&sc=on&select_arrange=headnum&desc=asc&no=70322\n",
      "http://www.navinside.com/bbs/zboard.php?id=forum_ins_blackbox&page=1&sn1=&divpage=15&category=103&sn=off&ss=on&sc=on&select_arrange=headnum&desc=asc&no=69786\n",
      "http://www.navinside.com/bbs/zboard.php?id=forum_ins_blackbox&page=1&sn1=&divpage=15&category=103&sn=off&ss=on&sc=on&select_arrange=headnum&desc=asc&no=64614\n",
      "http://www.navinside.com/bbs/zboard.php?id=forum_ins_blackbox&page=1&sn1=&divpage=15&category=103&sn=off&ss=on&sc=on&select_arrange=headnum&desc=asc&no=60000\n",
      "http://www.navinside.com/bbs/zboard.php?id=forum_ins_blackbox&page=1&sn1=&divpage=15&category=103&sn=off&ss=on&sc=on&select_arrange=headnum&desc=asc&no=59838\n",
      "http://www.navinside.com/bbs/zboard.php?id=forum_ins_blackbox&page=1&sn1=&divpage=15&category=103&sn=off&ss=on&sc=on&select_arrange=headnum&desc=asc&no=58469\n",
      "http://www.navinside.com/bbs/zboard.php?id=forum_ins_blackbox&page=1&sn1=&divpage=15&category=103&sn=off&ss=on&sc=on&select_arrange=headnum&desc=asc&no=58468\n",
      "http://www.navinside.com/bbs/zboard.php?id=forum_ins_blackbox&page=1&sn1=&divpage=15&category=103&sn=off&ss=on&sc=on&select_arrange=headnum&desc=asc&no=58198\n",
      "http://www.navinside.com/bbs/zboard.php?id=forum_ins_blackbox&page=1&sn1=&divpage=15&category=103&sn=off&ss=on&sc=on&select_arrange=headnum&desc=asc&no=58232\n",
      "http://www.navinside.com/bbs/zboard.php?id=forum_ins_blackbox&page=1&sn1=&divpage=15&category=103&sn=off&ss=on&sc=on&select_arrange=headnum&desc=asc&no=56824\n",
      "http://www.navinside.com/bbs/zboard.php?id=forum_ins_blackbox&page=1&sn1=&divpage=15&category=103&sn=off&ss=on&sc=on&select_arrange=headnum&desc=asc&no=56440\n",
      "http://www.navinside.com/bbs/zboard.php?id=forum_ins_blackbox&page=1&sn1=&divpage=15&category=103&sn=off&ss=on&sc=on&select_arrange=headnum&desc=asc&no=56409\n",
      "http://www.navinside.com/bbs/zboard.php?id=forum_ins_blackbox&page=1&sn1=&divpage=15&category=103&sn=off&ss=on&sc=on&select_arrange=headnum&desc=asc&no=56052\n",
      "http://www.navinside.com/bbs/zboard.php?id=forum_ins_blackbox&page=1&sn1=&divpage=15&category=103&sn=off&ss=on&sc=on&select_arrange=headnum&desc=asc&no=56005\n",
      "http://www.navinside.com/bbs/zboard.php?id=forum_ins_blackbox&page=1&sn1=&divpage=15&category=103&sn=off&ss=on&sc=on&select_arrange=headnum&desc=asc&no=55289\n",
      "http://www.navinside.com/bbs/zboard.php?id=forum_ins_blackbox&page=1&sn1=&divpage=15&category=103&sn=off&ss=on&sc=on&select_arrange=headnum&desc=asc&no=54651\n",
      "http://www.navinside.com/bbs/zboard.php?id=forum_ins_blackbox&page=1&sn1=&divpage=15&category=103&sn=off&ss=on&sc=on&select_arrange=headnum&desc=asc&no=54313\n",
      "http://www.navinside.com/bbs/zboard.php?id=forum_ins_blackbox&page=1&sn1=&divpage=15&category=103&sn=off&ss=on&sc=on&select_arrange=headnum&desc=asc&no=52636\n",
      "http://www.navinside.com/bbs/zboard.php?id=forum_ins_blackbox&page=1&sn1=&divpage=15&category=103&sn=off&ss=on&sc=on&select_arrange=headnum&desc=asc&no=50545\n",
      "http://www.navinside.com/bbs/zboard.php?id=forum_ins_blackbox&page=1&sn1=&divpage=15&category=103&sn=off&ss=on&sc=on&select_arrange=headnum&desc=asc&no=50411\n",
      "http://www.navinside.com/bbs/zboard.php?id=forum_ins_blackbox&page=1&sn1=&divpage=15&category=103&sn=off&ss=on&sc=on&select_arrange=headnum&desc=asc&no=50007\n",
      "http://www.navinside.com/bbs/zboard.php?id=forum_ins_blackbox&page=1&sn1=&divpage=15&category=103&sn=off&ss=on&sc=on&select_arrange=headnum&desc=asc&no=49595\n",
      "http://www.navinside.com/bbs/zboard.php?id=forum_ins_blackbox&page=1&sn1=&divpage=15&category=103&sn=off&ss=on&sc=on&select_arrange=headnum&desc=asc&no=49255\n",
      "http://www.navinside.com/bbs/zboard.php?id=forum_ins_blackbox&page=1&sn1=&divpage=15&category=103&sn=off&ss=on&sc=on&select_arrange=headnum&desc=asc&no=49051\n",
      "http://www.navinside.com/bbs/zboard.php?id=forum_ins_blackbox&page=1&sn1=&divpage=15&category=103&sn=off&ss=on&sc=on&select_arrange=headnum&desc=asc&no=48871\n",
      "http://www.navinside.com/bbs/zboard.php?id=forum_ins_blackbox&page=1&sn1=&divpage=15&category=103&sn=off&ss=on&sc=on&select_arrange=headnum&desc=asc&no=48562\n",
      "http://www.navinside.com/bbs/zboard.php?id=forum_ins_blackbox&page=1&sn1=&divpage=15&category=103&sn=off&ss=on&sc=on&select_arrange=headnum&desc=asc&no=48366\n",
      "http://www.navinside.com/bbs/zboard.php?id=forum_ins_blackbox&page=1&sn1=&divpage=15&category=103&sn=off&ss=on&sc=on&select_arrange=headnum&desc=asc&no=48350\n",
      "http://www.navinside.com/bbs/zboard.php?id=forum_ins_blackbox&page=1&sn1=&divpage=15&category=103&sn=off&ss=on&sc=on&select_arrange=headnum&desc=asc&no=48125\n",
      "http://www.navinside.com/bbs/zboard.php?id=forum_ins_blackbox&page=1&sn1=&divpage=15&category=103&sn=off&ss=on&sc=on&select_arrange=headnum&desc=asc&no=48113\n",
      "http://www.navinside.com/bbs/zboard.php?id=forum_ins_blackbox&page=1&sn1=&divpage=15&category=103&sn=off&ss=on&sc=on&select_arrange=headnum&desc=asc&no=48103\n",
      "http://www.navinside.com/bbs/zboard.php?id=forum_ins_blackbox&page=1&sn1=&divpage=15&category=103&sn=off&ss=on&sc=on&select_arrange=headnum&desc=asc&no=48062\n",
      "http://www.navinside.com/bbs/zboard.php?id=forum_ins_blackbox&page=1&sn1=&divpage=15&category=103&sn=off&ss=on&sc=on&select_arrange=headnum&desc=asc&no=47902\n",
      "http://www.navinside.com/bbs/zboard.php?id=forum_ins_blackbox&page=1&sn1=&divpage=15&category=103&sn=off&ss=on&sc=on&select_arrange=headnum&desc=asc&no=47378\n",
      "http://www.navinside.com/bbs/zboard.php?id=forum_ins_blackbox&page=1&sn1=&divpage=15&category=103&sn=off&ss=on&sc=on&select_arrange=headnum&desc=asc&no=47271\n",
      "http://www.navinside.com/bbs/zboard.php?id=forum_ins_blackbox&page=1&sn1=&divpage=15&category=103&sn=off&ss=on&sc=on&select_arrange=headnum&desc=asc&no=47216\n",
      "http://www.navinside.com/bbs/zboard.php?id=forum_ins_blackbox&page=1&sn1=&divpage=15&category=103&sn=off&ss=on&sc=on&select_arrange=headnum&desc=asc&no=47016\n",
      "http://www.navinside.com/bbs/zboard.php?id=forum_ins_blackbox&page=1&sn1=&divpage=15&category=103&sn=off&ss=on&sc=on&select_arrange=headnum&desc=asc&no=45844\n",
      "http://www.navinside.com/bbs/zboard.php?id=forum_ins_blackbox&page=1&sn1=&divpage=15&category=103&sn=off&ss=on&sc=on&select_arrange=headnum&desc=asc&no=45734\n",
      "http://www.navinside.com/bbs/zboard.php?id=forum_ins_blackbox&page=1&sn1=&divpage=15&category=103&sn=off&ss=on&sc=on&select_arrange=headnum&desc=asc&no=45592\n",
      "http://www.navinside.com/bbs/zboard.php?id=forum_ins_blackbox&page=1&sn1=&divpage=15&category=103&sn=off&ss=on&sc=on&select_arrange=headnum&desc=asc&no=45118\n",
      "http://www.navinside.com/bbs/zboard.php?id=forum_ins_blackbox&page=2&sn1=&divpage=15&category=103&sn=off&ss=on&sc=on&select_arrange=headnum&desc=asc&no=44964\n",
      "http://www.navinside.com/bbs/zboard.php?id=forum_ins_blackbox&page=2&sn1=&divpage=15&category=103&sn=off&ss=on&sc=on&select_arrange=headnum&desc=asc&no=44941\n"
     ]
    },
    {
     "name": "stdout",
     "output_type": "stream",
     "text": [
      "http://www.navinside.com/bbs/zboard.php?id=forum_ins_blackbox&page=2&sn1=&divpage=15&category=103&sn=off&ss=on&sc=on&select_arrange=headnum&desc=asc&no=43201\n",
      "http://www.navinside.com/bbs/zboard.php?id=forum_ins_blackbox&page=2&sn1=&divpage=15&category=103&sn=off&ss=on&sc=on&select_arrange=headnum&desc=asc&no=43157\n",
      "http://www.navinside.com/bbs/zboard.php?id=forum_ins_blackbox&page=2&sn1=&divpage=15&category=103&sn=off&ss=on&sc=on&select_arrange=headnum&desc=asc&no=42987\n",
      "http://www.navinside.com/bbs/zboard.php?id=forum_ins_blackbox&page=2&sn1=&divpage=15&category=103&sn=off&ss=on&sc=on&select_arrange=headnum&desc=asc&no=42690\n",
      "http://www.navinside.com/bbs/zboard.php?id=forum_ins_blackbox&page=2&sn1=&divpage=15&category=103&sn=off&ss=on&sc=on&select_arrange=headnum&desc=asc&no=41284\n",
      "http://www.navinside.com/bbs/zboard.php?id=forum_ins_blackbox&page=2&sn1=&divpage=15&category=103&sn=off&ss=on&sc=on&select_arrange=headnum&desc=asc&no=39904\n",
      "http://www.navinside.com/bbs/zboard.php?id=forum_ins_blackbox&page=2&sn1=&divpage=15&category=103&sn=off&ss=on&sc=on&select_arrange=headnum&desc=asc&no=39631\n",
      "http://www.navinside.com/bbs/zboard.php?id=forum_ins_blackbox&page=2&sn1=&divpage=15&category=103&sn=off&ss=on&sc=on&select_arrange=headnum&desc=asc&no=39376\n",
      "(1406, \"Data too long for column 'content' at row 1\")\n",
      "http://www.navinside.com/bbs/zboard.php?id=forum_ins_blackbox&page=2&sn1=&divpage=15&category=103&sn=off&ss=on&sc=on&select_arrange=headnum&desc=asc&no=39211\n",
      "http://www.navinside.com/bbs/zboard.php?id=forum_ins_blackbox&page=2&sn1=&divpage=15&category=103&sn=off&ss=on&sc=on&select_arrange=headnum&desc=asc&no=38634\n",
      "http://www.navinside.com/bbs/zboard.php?id=forum_ins_blackbox&page=2&sn1=&divpage=15&category=103&sn=off&ss=on&sc=on&select_arrange=headnum&desc=asc&no=37344\n",
      "http://www.navinside.com/bbs/zboard.php?id=forum_ins_blackbox&page=2&sn1=&divpage=15&category=103&sn=off&ss=on&sc=on&select_arrange=headnum&desc=asc&no=37247\n",
      "http://www.navinside.com/bbs/zboard.php?id=forum_ins_blackbox&page=2&sn1=&divpage=15&category=103&sn=off&ss=on&sc=on&select_arrange=headnum&desc=asc&no=37134\n",
      "http://www.navinside.com/bbs/zboard.php?id=forum_ins_blackbox&page=2&sn1=&divpage=15&category=103&sn=off&ss=on&sc=on&select_arrange=headnum&desc=asc&no=36800\n",
      "http://www.navinside.com/bbs/zboard.php?id=forum_ins_blackbox&page=2&sn1=&divpage=15&category=103&sn=off&ss=on&sc=on&select_arrange=headnum&desc=asc&no=36457\n",
      "http://www.navinside.com/bbs/zboard.php?id=forum_ins_blackbox&page=2&sn1=&divpage=15&category=103&sn=off&ss=on&sc=on&select_arrange=headnum&desc=asc&no=36207\n",
      "http://www.navinside.com/bbs/zboard.php?id=forum_ins_blackbox&page=2&sn1=&divpage=15&category=103&sn=off&ss=on&sc=on&select_arrange=headnum&desc=asc&no=36181\n",
      "http://www.navinside.com/bbs/zboard.php?id=forum_ins_blackbox&page=2&sn1=&divpage=15&category=103&sn=off&ss=on&sc=on&select_arrange=headnum&desc=asc&no=36048\n",
      "http://www.navinside.com/bbs/zboard.php?id=forum_ins_blackbox&page=2&sn1=&divpage=15&category=103&sn=off&ss=on&sc=on&select_arrange=headnum&desc=asc&no=35990\n",
      "http://www.navinside.com/bbs/zboard.php?id=forum_ins_blackbox&page=2&sn1=&divpage=15&category=103&sn=off&ss=on&sc=on&select_arrange=headnum&desc=asc&no=35704\n",
      "http://www.navinside.com/bbs/zboard.php?id=forum_ins_blackbox&page=2&sn1=&divpage=15&category=103&sn=off&ss=on&sc=on&select_arrange=headnum&desc=asc&no=35619\n",
      "http://www.navinside.com/bbs/zboard.php?id=forum_ins_blackbox&page=2&sn1=&divpage=15&category=103&sn=off&ss=on&sc=on&select_arrange=headnum&desc=asc&no=33499\n",
      "http://www.navinside.com/bbs/zboard.php?id=forum_ins_blackbox&page=2&sn1=&divpage=15&category=103&sn=off&ss=on&sc=on&select_arrange=headnum&desc=asc&no=33146\n",
      "http://www.navinside.com/bbs/zboard.php?id=forum_ins_blackbox&page=2&sn1=&divpage=15&category=103&sn=off&ss=on&sc=on&select_arrange=headnum&desc=asc&no=32883\n",
      "http://www.navinside.com/bbs/zboard.php?id=forum_ins_blackbox&page=2&sn1=&divpage=15&category=103&sn=off&ss=on&sc=on&select_arrange=headnum&desc=asc&no=32770\n",
      "http://www.navinside.com/bbs/zboard.php?id=forum_ins_blackbox&page=2&sn1=&divpage=15&category=103&sn=off&ss=on&sc=on&select_arrange=headnum&desc=asc&no=32149\n",
      "http://www.navinside.com/bbs/zboard.php?id=forum_ins_blackbox&page=2&sn1=&divpage=15&category=103&sn=off&ss=on&sc=on&select_arrange=headnum&desc=asc&no=31856\n",
      "http://www.navinside.com/bbs/zboard.php?id=forum_ins_blackbox&page=2&sn1=&divpage=15&category=103&sn=off&ss=on&sc=on&select_arrange=headnum&desc=asc&no=31793\n",
      "http://www.navinside.com/bbs/zboard.php?id=forum_ins_blackbox&page=2&sn1=&divpage=15&category=103&sn=off&ss=on&sc=on&select_arrange=headnum&desc=asc&no=31576\n",
      "http://www.navinside.com/bbs/zboard.php?id=forum_ins_blackbox&page=2&sn1=&divpage=15&category=103&sn=off&ss=on&sc=on&select_arrange=headnum&desc=asc&no=31524\n",
      "http://www.navinside.com/bbs/zboard.php?id=forum_ins_blackbox&page=2&sn1=&divpage=15&category=103&sn=off&ss=on&sc=on&select_arrange=headnum&desc=asc&no=31020\n",
      "http://www.navinside.com/bbs/zboard.php?id=forum_ins_blackbox&page=2&sn1=&divpage=15&category=103&sn=off&ss=on&sc=on&select_arrange=headnum&desc=asc&no=30592\n",
      "http://www.navinside.com/bbs/zboard.php?id=forum_ins_blackbox&page=2&sn1=&divpage=15&category=103&sn=off&ss=on&sc=on&select_arrange=headnum&desc=asc&no=30020\n",
      "http://www.navinside.com/bbs/zboard.php?id=forum_ins_blackbox&page=2&sn1=&divpage=15&category=103&sn=off&ss=on&sc=on&select_arrange=headnum&desc=asc&no=29809\n",
      "http://www.navinside.com/bbs/zboard.php?id=forum_ins_blackbox&page=2&sn1=&divpage=15&category=103&sn=off&ss=on&sc=on&select_arrange=headnum&desc=asc&no=29152\n",
      "http://www.navinside.com/bbs/zboard.php?id=forum_ins_blackbox&page=2&sn1=&divpage=15&category=103&sn=off&ss=on&sc=on&select_arrange=headnum&desc=asc&no=28901\n",
      "http://www.navinside.com/bbs/zboard.php?id=forum_ins_blackbox&page=2&sn1=&divpage=15&category=103&sn=off&ss=on&sc=on&select_arrange=headnum&desc=asc&no=28761\n",
      "http://www.navinside.com/bbs/zboard.php?id=forum_ins_blackbox&page=2&sn1=&divpage=15&category=103&sn=off&ss=on&sc=on&select_arrange=headnum&desc=asc&no=28524\n",
      "http://www.navinside.com/bbs/zboard.php?id=forum_ins_blackbox&page=2&sn1=&divpage=15&category=103&sn=off&ss=on&sc=on&select_arrange=headnum&desc=asc&no=28158\n",
      "http://www.navinside.com/bbs/zboard.php?id=forum_ins_blackbox&page=2&sn1=&divpage=15&category=103&sn=off&ss=on&sc=on&select_arrange=headnum&desc=asc&no=28054\n",
      "http://www.navinside.com/bbs/zboard.php?id=forum_ins_blackbox&page=2&sn1=&divpage=15&category=103&sn=off&ss=on&sc=on&select_arrange=headnum&desc=asc&no=27928\n",
      "http://www.navinside.com/bbs/zboard.php?id=forum_ins_blackbox&page=2&sn1=&divpage=15&category=103&sn=off&ss=on&sc=on&select_arrange=headnum&desc=asc&no=27724\n",
      "http://www.navinside.com/bbs/zboard.php?id=forum_ins_blackbox&page=2&sn1=&divpage=15&category=103&sn=off&ss=on&sc=on&select_arrange=headnum&desc=asc&no=26804\n",
      "http://www.navinside.com/bbs/zboard.php?id=forum_ins_blackbox&page=2&sn1=&divpage=15&category=103&sn=off&ss=on&sc=on&select_arrange=headnum&desc=asc&no=26782\n",
      "http://www.navinside.com/bbs/zboard.php?id=forum_ins_blackbox&page=2&sn1=&divpage=15&category=103&sn=off&ss=on&sc=on&select_arrange=headnum&desc=asc&no=26775\n",
      "http://www.navinside.com/bbs/zboard.php?id=forum_ins_blackbox&page=2&sn1=&divpage=15&category=103&sn=off&ss=on&sc=on&select_arrange=headnum&desc=asc&no=26762\n",
      "http://www.navinside.com/bbs/zboard.php?id=forum_ins_blackbox&page=2&sn1=&divpage=15&category=103&sn=off&ss=on&sc=on&select_arrange=headnum&desc=asc&no=26702\n",
      "http://www.navinside.com/bbs/zboard.php?id=forum_ins_blackbox&page=2&sn1=&divpage=15&category=103&sn=off&ss=on&sc=on&select_arrange=headnum&desc=asc&no=26561\n",
      "http://www.navinside.com/bbs/zboard.php?id=forum_ins_blackbox&page=3&sn1=&divpage=15&category=103&sn=off&ss=on&sc=on&select_arrange=headnum&desc=asc&no=26532\n",
      "http://www.navinside.com/bbs/zboard.php?id=forum_ins_blackbox&page=3&sn1=&divpage=15&category=103&sn=off&ss=on&sc=on&select_arrange=headnum&desc=asc&no=26524\n",
      "http://www.navinside.com/bbs/zboard.php?id=forum_ins_blackbox&page=3&sn1=&divpage=15&category=103&sn=off&ss=on&sc=on&select_arrange=headnum&desc=asc&no=26217\n",
      "http://www.navinside.com/bbs/zboard.php?id=forum_ins_blackbox&page=3&sn1=&divpage=15&category=103&sn=off&ss=on&sc=on&select_arrange=headnum&desc=asc&no=25757\n"
     ]
    },
    {
     "name": "stdout",
     "output_type": "stream",
     "text": [
      "http://www.navinside.com/bbs/zboard.php?id=forum_ins_blackbox&page=3&sn1=&divpage=15&category=103&sn=off&ss=on&sc=on&select_arrange=headnum&desc=asc&no=25525\n",
      "http://www.navinside.com/bbs/zboard.php?id=forum_ins_blackbox&page=3&sn1=&divpage=15&category=103&sn=off&ss=on&sc=on&select_arrange=headnum&desc=asc&no=25528\n",
      "http://www.navinside.com/bbs/zboard.php?id=forum_ins_blackbox&page=3&sn1=&divpage=15&category=103&sn=off&ss=on&sc=on&select_arrange=headnum&desc=asc&no=25524\n",
      "http://www.navinside.com/bbs/zboard.php?id=forum_ins_blackbox&page=3&sn1=&divpage=15&category=103&sn=off&ss=on&sc=on&select_arrange=headnum&desc=asc&no=25047\n",
      "http://www.navinside.com/bbs/zboard.php?id=forum_ins_blackbox&page=3&sn1=&divpage=15&category=103&sn=off&ss=on&sc=on&select_arrange=headnum&desc=asc&no=25013\n",
      "http://www.navinside.com/bbs/zboard.php?id=forum_ins_blackbox&page=3&sn1=&divpage=15&category=103&sn=off&ss=on&sc=on&select_arrange=headnum&desc=asc&no=24883\n",
      "http://www.navinside.com/bbs/zboard.php?id=forum_ins_blackbox&page=3&sn1=&divpage=15&category=103&sn=off&ss=on&sc=on&select_arrange=headnum&desc=asc&no=24653\n",
      "http://www.navinside.com/bbs/zboard.php?id=forum_ins_blackbox&page=3&sn1=&divpage=15&category=103&sn=off&ss=on&sc=on&select_arrange=headnum&desc=asc&no=24467\n",
      "http://www.navinside.com/bbs/zboard.php?id=forum_ins_blackbox&page=3&sn1=&divpage=15&category=103&sn=off&ss=on&sc=on&select_arrange=headnum&desc=asc&no=23907\n",
      "http://www.navinside.com/bbs/zboard.php?id=forum_ins_blackbox&page=3&sn1=&divpage=15&category=103&sn=off&ss=on&sc=on&select_arrange=headnum&desc=asc&no=23716\n",
      "http://www.navinside.com/bbs/zboard.php?id=forum_ins_blackbox&page=3&sn1=&divpage=15&category=103&sn=off&ss=on&sc=on&select_arrange=headnum&desc=asc&no=23689\n",
      "http://www.navinside.com/bbs/zboard.php?id=forum_ins_blackbox&page=3&sn1=&divpage=15&category=103&sn=off&ss=on&sc=on&select_arrange=headnum&desc=asc&no=23674\n",
      "http://www.navinside.com/bbs/zboard.php?id=forum_ins_blackbox&page=3&sn1=&divpage=15&category=103&sn=off&ss=on&sc=on&select_arrange=headnum&desc=asc&no=23611\n",
      "http://www.navinside.com/bbs/zboard.php?id=forum_ins_blackbox&page=3&sn1=&divpage=15&category=103&sn=off&ss=on&sc=on&select_arrange=headnum&desc=asc&no=23413\n",
      "http://www.navinside.com/bbs/zboard.php?id=forum_ins_blackbox&page=3&sn1=&divpage=15&category=103&sn=off&ss=on&sc=on&select_arrange=headnum&desc=asc&no=23331\n",
      "http://www.navinside.com/bbs/zboard.php?id=forum_ins_blackbox&page=3&sn1=&divpage=15&category=103&sn=off&ss=on&sc=on&select_arrange=headnum&desc=asc&no=22991\n",
      "http://www.navinside.com/bbs/zboard.php?id=forum_ins_blackbox&page=3&sn1=&divpage=15&category=103&sn=off&ss=on&sc=on&select_arrange=headnum&desc=asc&no=22958\n"
     ]
    }
   ],
   "source": [
    "for i in range(len(new_list)):\n",
    "    try:\n",
    "        #print url_link[i]\n",
    "        query = \"\"\"INSERT INTO blackbox VALUES \\\n",
    "        ({}, '네비인사이드' , '{}' ,'{}','{}','negative');\"\"\".format(i , url_link[i], url_title[i], new_list[i])\n",
    "        cursor.execute(query)\n",
    "    except Exception as e:\n",
    "        db.rollback()\n",
    "        print (e)\n",
    "\n",
    "db.commit()\n",
    "cursor.close()\n",
    "\n",
    "    # disconnect from server\n",
    "db.close()"
   ]
  }
 ],
 "metadata": {
  "kernelspec": {
   "display_name": "Python 2",
   "language": "python",
   "name": "python2"
  },
  "language_info": {
   "codemirror_mode": {
    "name": "ipython",
    "version": 2
   },
   "file_extension": ".py",
   "mimetype": "text/x-python",
   "name": "python",
   "nbconvert_exporter": "python",
   "pygments_lexer": "ipython2",
   "version": "2.7.13"
  }
 },
 "nbformat": 4,
 "nbformat_minor": 2
}
