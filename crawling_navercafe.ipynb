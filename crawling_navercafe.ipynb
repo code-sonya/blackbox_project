{
 "cells": [
  {
   "cell_type": "code",
   "execution_count": 114,
   "metadata": {
    "collapsed": true
   },
   "outputs": [],
   "source": [
    "from selenium import webdriver\n",
    "from bs4 import BeautifulSoup\n",
    "import time\n",
    "chromedriver = './chromedriver'\n",
    "driver = webdriver.Chrome(chromedriver)\n",
    "driver.implicitly_wait(3)\n",
    "driver.get('http://www.naver.com')\n",
    "time.sleep(1)"
   ]
  },
  {
   "cell_type": "code",
   "execution_count": 115,
   "metadata": {
    "collapsed": true
   },
   "outputs": [],
   "source": [
    "driver.find_element_by_name('id').send_keys('soo5028')\n",
    "driver.find_element_by_name('pw').send_keys('soo5028%')\n",
    "time.sleep(1)\n",
    "driver.find_element_by_xpath('//*[@id=\"frmNIDLogin\"]/fieldset/span/input').click()"
   ]
  },
  {
   "cell_type": "markdown",
   "metadata": {},
   "source": [
    "# 1. 네비인사이드:블랙박스 포럼 crawling"
   ]
  },
  {
   "cell_type": "markdown",
   "metadata": {},
   "source": [
    "### (1) 블랙박스 불평/불만 게시판 url 주소 리스트 저장"
   ]
  },
  {
   "cell_type": "markdown",
   "metadata": {},
   "source": [
    "1) import 모듈"
   ]
  },
  {
   "cell_type": "code",
   "execution_count": 88,
   "metadata": {
    "collapsed": true
   },
   "outputs": [],
   "source": [
    "import requests\n",
    "import re\n",
    "from bs4 import BeautifulSoup"
   ]
  },
  {
   "cell_type": "markdown",
   "metadata": {},
   "source": [
    "# 아이나비"
   ]
  },
  {
   "cell_type": "code",
   "execution_count": 89,
   "metadata": {
    "collapsed": true
   },
   "outputs": [],
   "source": [
    "base_url = 'http://cafe.naver.com/blackboxclub?iframe_url=/ArticleList.nhn%3Fsearch.clubid=17638944%26search.menuid=1074%26search.boardtype=L%26search.questionTab=A%26search.totalCount=151%26search.page='"
   ]
  },
  {
   "cell_type": "markdown",
   "metadata": {},
   "source": [
    "2) url링크 주소를 담을 리스트 생성 (url_link)"
   ]
  },
  {
   "cell_type": "code",
   "execution_count": 111,
   "metadata": {
    "collapsed": true
   },
   "outputs": [],
   "source": [
    "inavi = 'http://cafe.naver.com/ArticleList.nhn?search.clubid=17638944&search.menuid=1074&search.boardtype=L&search.questionTab=A&search.totalCount=2101&search.clubid=17638944&search.page='"
   ]
  },
  {
   "cell_type": "code",
   "execution_count": 112,
   "metadata": {},
   "outputs": [],
   "source": [
    "url_list = []\n",
    "for i in range(1,2):\n",
    "    try:\n",
    "        res = requests.post(inavi+str(i))\n",
    "        soup = BeautifulSoup(res.text, 'html5lib')\n",
    "            \n",
    "        td_list = soup.find_all('span', attrs = {'class' : 'aaa'})\n",
    "        for td in td_list:\n",
    "            url_list.append(\"http://cafe.naver.com{}\".format (td.a['href']))\n",
    "                #url_link.append(\"http://www.navinside.com/bbs/{}\".format( td.a['href']))\n",
    "    except:\n",
    "        print i\n",
    "        break "
   ]
  },
  {
   "cell_type": "code",
   "execution_count": 92,
   "metadata": {},
   "outputs": [],
   "source": [
    "def url_link(base_url):\n",
    "    url_list = []\n",
    "    for i in range(1,20):\n",
    "        try:\n",
    "            res = requests.post(base_url+str(i))\n",
    "            soup = BeautifulSoup(res.text, 'html5lib')\n",
    "            \n",
    "            td_list = soup.find_all('span', attrs = {'class' : 'aaa'})\n",
    "            for td in td_list:\n",
    "                url_list.append(\"http://cafe.naver.com{}\".format (td.a['href']))\n",
    "                #url_link.append(\"http://www.navinside.com/bbs/{}\".format( td.a['href']))\n",
    "        except:\n",
    "            print i\n",
    "            break  \n",
    "    return url_list"
   ]
  },
  {
   "cell_type": "code",
   "execution_count": 93,
   "metadata": {
    "collapsed": true
   },
   "outputs": [],
   "source": [
    "def title_content(url_list,driver):\n",
    "    \n",
    "    global url_title \n",
    "    url_title = []\n",
    "    global url_content \n",
    "    url_content = []\n",
    "    #chromedriver = './chromedriver'\n",
    "    #driver = webdriver.Chrome(chromedriver)\n",
    "    for i in url_list:\n",
    "        #print i\n",
    "        driver.get(i)\n",
    "        try:\n",
    "            #post_171880 > div > div.tit-box > div.fl > table > tbody > tr > td> span\n",
    "            #//*[@id=\"post_171880\"]/div/div[1]/div[1]/table/tbody/tr/td[2]/span\n",
    "            #//*[@id=\"post_171823\"]/div/div[1]/div[1]/table/tbody/tr/td[2]/span\n",
    "            black_title = driver.find_element_by_css_selector(\"tbody > tr > td[2]> span.b m-tcol-c\")\n",
    "            print black_title.text\n",
    "            url_title.append(black_title.text.encode('utf-8'))\n",
    "            print black_title.text.encode('utf-8')\n",
    "            black_content = driver.find_element_by_css_selector(\"div.tbody m-tcol-c\")\n",
    "            #black_content = black_content.text\n",
    "            #black_content = black_content.strip()\n",
    "            url_content.append(black_content.text.encode('utf-8'))\n",
    "        except Exception as e:\n",
    "            print (e , i)\n",
    "    driver.quit()\n",
    "    return url_title, url_content\n",
    "    "
   ]
  },
  {
   "cell_type": "code",
   "execution_count": 94,
   "metadata": {},
   "outputs": [
    {
     "name": "stdout",
     "output_type": "stream",
     "text": [
      "(InvalidSelectorException(), 'http://cafe.naver.com/ArticleRead.nhn?clubid=17638944&menuid=1074&boardtype=L&page=1&specialmenutype=&userDisplay=15&articleid=811515')\n",
      "(InvalidSelectorException(), 'http://cafe.naver.com/ArticleRead.nhn?clubid=17638944&menuid=1074&boardtype=L&page=1&specialmenutype=&userDisplay=15&articleid=810871')\n",
      "(InvalidSelectorException(), 'http://cafe.naver.com/ArticleRead.nhn?clubid=17638944&menuid=1074&boardtype=L&page=1&specialmenutype=&userDisplay=15&articleid=709143')\n"
     ]
    },
    {
     "ename": "KeyboardInterrupt",
     "evalue": "",
     "output_type": "error",
     "traceback": [
      "\u001b[0;31m---------------------------------------------------------------------------\u001b[0m",
      "\u001b[0;31mKeyboardInterrupt\u001b[0m                         Traceback (most recent call last)",
      "\u001b[0;32m<ipython-input-94-6924e0f310dc>\u001b[0m in \u001b[0;36m<module>\u001b[0;34m()\u001b[0m\n\u001b[0;32m----> 1\u001b[0;31m \u001b[0mtitle_content\u001b[0m\u001b[0;34m(\u001b[0m\u001b[0murl_link\u001b[0m\u001b[0;34m(\u001b[0m\u001b[0minavi\u001b[0m\u001b[0;34m)\u001b[0m\u001b[0;34m,\u001b[0m\u001b[0mdriver\u001b[0m\u001b[0;34m)\u001b[0m\u001b[0;34m\u001b[0m\u001b[0m\n\u001b[0m",
      "\u001b[0;32m<ipython-input-93-4ad9f4f0ae33>\u001b[0m in \u001b[0;36mtitle_content\u001b[0;34m(url_list, driver)\u001b[0m\n\u001b[1;32m      9\u001b[0m     \u001b[0;32mfor\u001b[0m \u001b[0mi\u001b[0m \u001b[0;32min\u001b[0m \u001b[0murl_list\u001b[0m\u001b[0;34m:\u001b[0m\u001b[0;34m\u001b[0m\u001b[0m\n\u001b[1;32m     10\u001b[0m         \u001b[0;31m#print i\u001b[0m\u001b[0;34m\u001b[0m\u001b[0;34m\u001b[0m\u001b[0m\n\u001b[0;32m---> 11\u001b[0;31m         \u001b[0mdriver\u001b[0m\u001b[0;34m.\u001b[0m\u001b[0mget\u001b[0m\u001b[0;34m(\u001b[0m\u001b[0mi\u001b[0m\u001b[0;34m)\u001b[0m\u001b[0;34m\u001b[0m\u001b[0m\n\u001b[0m\u001b[1;32m     12\u001b[0m         \u001b[0;32mtry\u001b[0m\u001b[0;34m:\u001b[0m\u001b[0;34m\u001b[0m\u001b[0m\n\u001b[1;32m     13\u001b[0m             \u001b[0;31m#post_171880 > div > div.tit-box > div.fl > table > tbody > tr > td> span\u001b[0m\u001b[0;34m\u001b[0m\u001b[0;34m\u001b[0m\u001b[0m\n",
      "\u001b[0;32m/Library/Frameworks/Python.framework/Versions/2.7/lib/python2.7/site-packages/selenium/webdriver/remote/webdriver.pyc\u001b[0m in \u001b[0;36mget\u001b[0;34m(self, url)\u001b[0m\n\u001b[1;32m    318\u001b[0m         \u001b[0mLoads\u001b[0m \u001b[0ma\u001b[0m \u001b[0mweb\u001b[0m \u001b[0mpage\u001b[0m \u001b[0;32min\u001b[0m \u001b[0mthe\u001b[0m \u001b[0mcurrent\u001b[0m \u001b[0mbrowser\u001b[0m \u001b[0msession\u001b[0m\u001b[0;34m.\u001b[0m\u001b[0;34m\u001b[0m\u001b[0m\n\u001b[1;32m    319\u001b[0m         \"\"\"\n\u001b[0;32m--> 320\u001b[0;31m         \u001b[0mself\u001b[0m\u001b[0;34m.\u001b[0m\u001b[0mexecute\u001b[0m\u001b[0;34m(\u001b[0m\u001b[0mCommand\u001b[0m\u001b[0;34m.\u001b[0m\u001b[0mGET\u001b[0m\u001b[0;34m,\u001b[0m \u001b[0;34m{\u001b[0m\u001b[0;34m'url'\u001b[0m\u001b[0;34m:\u001b[0m \u001b[0murl\u001b[0m\u001b[0;34m}\u001b[0m\u001b[0;34m)\u001b[0m\u001b[0;34m\u001b[0m\u001b[0m\n\u001b[0m\u001b[1;32m    321\u001b[0m \u001b[0;34m\u001b[0m\u001b[0m\n\u001b[1;32m    322\u001b[0m     \u001b[0;34m@\u001b[0m\u001b[0mproperty\u001b[0m\u001b[0;34m\u001b[0m\u001b[0m\n",
      "\u001b[0;32m/Library/Frameworks/Python.framework/Versions/2.7/lib/python2.7/site-packages/selenium/webdriver/remote/webdriver.pyc\u001b[0m in \u001b[0;36mexecute\u001b[0;34m(self, driver_command, params)\u001b[0m\n\u001b[1;32m    304\u001b[0m \u001b[0;34m\u001b[0m\u001b[0m\n\u001b[1;32m    305\u001b[0m         \u001b[0mparams\u001b[0m \u001b[0;34m=\u001b[0m \u001b[0mself\u001b[0m\u001b[0;34m.\u001b[0m\u001b[0m_wrap_value\u001b[0m\u001b[0;34m(\u001b[0m\u001b[0mparams\u001b[0m\u001b[0;34m)\u001b[0m\u001b[0;34m\u001b[0m\u001b[0m\n\u001b[0;32m--> 306\u001b[0;31m         \u001b[0mresponse\u001b[0m \u001b[0;34m=\u001b[0m \u001b[0mself\u001b[0m\u001b[0;34m.\u001b[0m\u001b[0mcommand_executor\u001b[0m\u001b[0;34m.\u001b[0m\u001b[0mexecute\u001b[0m\u001b[0;34m(\u001b[0m\u001b[0mdriver_command\u001b[0m\u001b[0;34m,\u001b[0m \u001b[0mparams\u001b[0m\u001b[0;34m)\u001b[0m\u001b[0;34m\u001b[0m\u001b[0m\n\u001b[0m\u001b[1;32m    307\u001b[0m         \u001b[0;32mif\u001b[0m \u001b[0mresponse\u001b[0m\u001b[0;34m:\u001b[0m\u001b[0;34m\u001b[0m\u001b[0m\n\u001b[1;32m    308\u001b[0m             \u001b[0mself\u001b[0m\u001b[0;34m.\u001b[0m\u001b[0merror_handler\u001b[0m\u001b[0;34m.\u001b[0m\u001b[0mcheck_response\u001b[0m\u001b[0;34m(\u001b[0m\u001b[0mresponse\u001b[0m\u001b[0;34m)\u001b[0m\u001b[0;34m\u001b[0m\u001b[0m\n",
      "\u001b[0;32m/Library/Frameworks/Python.framework/Versions/2.7/lib/python2.7/site-packages/selenium/webdriver/remote/remote_connection.pyc\u001b[0m in \u001b[0;36mexecute\u001b[0;34m(self, command, params)\u001b[0m\n\u001b[1;32m    462\u001b[0m         \u001b[0mpath\u001b[0m \u001b[0;34m=\u001b[0m \u001b[0mstring\u001b[0m\u001b[0;34m.\u001b[0m\u001b[0mTemplate\u001b[0m\u001b[0;34m(\u001b[0m\u001b[0mcommand_info\u001b[0m\u001b[0;34m[\u001b[0m\u001b[0;36m1\u001b[0m\u001b[0;34m]\u001b[0m\u001b[0;34m)\u001b[0m\u001b[0;34m.\u001b[0m\u001b[0msubstitute\u001b[0m\u001b[0;34m(\u001b[0m\u001b[0mparams\u001b[0m\u001b[0;34m)\u001b[0m\u001b[0;34m\u001b[0m\u001b[0m\n\u001b[1;32m    463\u001b[0m         \u001b[0murl\u001b[0m \u001b[0;34m=\u001b[0m \u001b[0;34m'%s%s'\u001b[0m \u001b[0;34m%\u001b[0m \u001b[0;34m(\u001b[0m\u001b[0mself\u001b[0m\u001b[0;34m.\u001b[0m\u001b[0m_url\u001b[0m\u001b[0;34m,\u001b[0m \u001b[0mpath\u001b[0m\u001b[0;34m)\u001b[0m\u001b[0;34m\u001b[0m\u001b[0m\n\u001b[0;32m--> 464\u001b[0;31m         \u001b[0;32mreturn\u001b[0m \u001b[0mself\u001b[0m\u001b[0;34m.\u001b[0m\u001b[0m_request\u001b[0m\u001b[0;34m(\u001b[0m\u001b[0mcommand_info\u001b[0m\u001b[0;34m[\u001b[0m\u001b[0;36m0\u001b[0m\u001b[0;34m]\u001b[0m\u001b[0;34m,\u001b[0m \u001b[0murl\u001b[0m\u001b[0;34m,\u001b[0m \u001b[0mbody\u001b[0m\u001b[0;34m=\u001b[0m\u001b[0mdata\u001b[0m\u001b[0;34m)\u001b[0m\u001b[0;34m\u001b[0m\u001b[0m\n\u001b[0m\u001b[1;32m    465\u001b[0m \u001b[0;34m\u001b[0m\u001b[0m\n\u001b[1;32m    466\u001b[0m     \u001b[0;32mdef\u001b[0m \u001b[0m_request\u001b[0m\u001b[0;34m(\u001b[0m\u001b[0mself\u001b[0m\u001b[0;34m,\u001b[0m \u001b[0mmethod\u001b[0m\u001b[0;34m,\u001b[0m \u001b[0murl\u001b[0m\u001b[0;34m,\u001b[0m \u001b[0mbody\u001b[0m\u001b[0;34m=\u001b[0m\u001b[0mNone\u001b[0m\u001b[0;34m)\u001b[0m\u001b[0;34m:\u001b[0m\u001b[0;34m\u001b[0m\u001b[0m\n",
      "\u001b[0;32m/Library/Frameworks/Python.framework/Versions/2.7/lib/python2.7/site-packages/selenium/webdriver/remote/remote_connection.pyc\u001b[0m in \u001b[0;36m_request\u001b[0;34m(self, method, url, body)\u001b[0m\n\u001b[1;32m    486\u001b[0m             \u001b[0;32mtry\u001b[0m\u001b[0;34m:\u001b[0m\u001b[0;34m\u001b[0m\u001b[0m\n\u001b[1;32m    487\u001b[0m                 \u001b[0mself\u001b[0m\u001b[0;34m.\u001b[0m\u001b[0m_conn\u001b[0m\u001b[0;34m.\u001b[0m\u001b[0mrequest\u001b[0m\u001b[0;34m(\u001b[0m\u001b[0mmethod\u001b[0m\u001b[0;34m,\u001b[0m \u001b[0mparsed_url\u001b[0m\u001b[0;34m.\u001b[0m\u001b[0mpath\u001b[0m\u001b[0;34m,\u001b[0m \u001b[0mbody\u001b[0m\u001b[0;34m,\u001b[0m \u001b[0mheaders\u001b[0m\u001b[0;34m)\u001b[0m\u001b[0;34m\u001b[0m\u001b[0m\n\u001b[0;32m--> 488\u001b[0;31m                 \u001b[0mresp\u001b[0m \u001b[0;34m=\u001b[0m \u001b[0mself\u001b[0m\u001b[0;34m.\u001b[0m\u001b[0m_conn\u001b[0m\u001b[0;34m.\u001b[0m\u001b[0mgetresponse\u001b[0m\u001b[0;34m(\u001b[0m\u001b[0;34m)\u001b[0m\u001b[0;34m\u001b[0m\u001b[0m\n\u001b[0m\u001b[1;32m    489\u001b[0m             \u001b[0;32mexcept\u001b[0m \u001b[0;34m(\u001b[0m\u001b[0mhttplib\u001b[0m\u001b[0;34m.\u001b[0m\u001b[0mHTTPException\u001b[0m\u001b[0;34m,\u001b[0m \u001b[0msocket\u001b[0m\u001b[0;34m.\u001b[0m\u001b[0merror\u001b[0m\u001b[0;34m)\u001b[0m\u001b[0;34m:\u001b[0m\u001b[0;34m\u001b[0m\u001b[0m\n\u001b[1;32m    490\u001b[0m                 \u001b[0mself\u001b[0m\u001b[0;34m.\u001b[0m\u001b[0m_conn\u001b[0m\u001b[0;34m.\u001b[0m\u001b[0mclose\u001b[0m\u001b[0;34m(\u001b[0m\u001b[0;34m)\u001b[0m\u001b[0;34m\u001b[0m\u001b[0m\n",
      "\u001b[0;32m/Library/Frameworks/Python.framework/Versions/2.7/lib/python2.7/httplib.pyc\u001b[0m in \u001b[0;36mgetresponse\u001b[0;34m(self, buffering)\u001b[0m\n\u001b[1;32m   1119\u001b[0m \u001b[0;34m\u001b[0m\u001b[0m\n\u001b[1;32m   1120\u001b[0m         \u001b[0;32mtry\u001b[0m\u001b[0;34m:\u001b[0m\u001b[0;34m\u001b[0m\u001b[0m\n\u001b[0;32m-> 1121\u001b[0;31m             \u001b[0mresponse\u001b[0m\u001b[0;34m.\u001b[0m\u001b[0mbegin\u001b[0m\u001b[0;34m(\u001b[0m\u001b[0;34m)\u001b[0m\u001b[0;34m\u001b[0m\u001b[0m\n\u001b[0m\u001b[1;32m   1122\u001b[0m             \u001b[0;32massert\u001b[0m \u001b[0mresponse\u001b[0m\u001b[0;34m.\u001b[0m\u001b[0mwill_close\u001b[0m \u001b[0;34m!=\u001b[0m \u001b[0m_UNKNOWN\u001b[0m\u001b[0;34m\u001b[0m\u001b[0m\n\u001b[1;32m   1123\u001b[0m             \u001b[0mself\u001b[0m\u001b[0;34m.\u001b[0m\u001b[0m__state\u001b[0m \u001b[0;34m=\u001b[0m \u001b[0m_CS_IDLE\u001b[0m\u001b[0;34m\u001b[0m\u001b[0m\n",
      "\u001b[0;32m/Library/Frameworks/Python.framework/Versions/2.7/lib/python2.7/httplib.pyc\u001b[0m in \u001b[0;36mbegin\u001b[0;34m(self)\u001b[0m\n\u001b[1;32m    436\u001b[0m         \u001b[0;31m# read until we get a non-100 response\u001b[0m\u001b[0;34m\u001b[0m\u001b[0;34m\u001b[0m\u001b[0m\n\u001b[1;32m    437\u001b[0m         \u001b[0;32mwhile\u001b[0m \u001b[0mTrue\u001b[0m\u001b[0;34m:\u001b[0m\u001b[0;34m\u001b[0m\u001b[0m\n\u001b[0;32m--> 438\u001b[0;31m             \u001b[0mversion\u001b[0m\u001b[0;34m,\u001b[0m \u001b[0mstatus\u001b[0m\u001b[0;34m,\u001b[0m \u001b[0mreason\u001b[0m \u001b[0;34m=\u001b[0m \u001b[0mself\u001b[0m\u001b[0;34m.\u001b[0m\u001b[0m_read_status\u001b[0m\u001b[0;34m(\u001b[0m\u001b[0;34m)\u001b[0m\u001b[0;34m\u001b[0m\u001b[0m\n\u001b[0m\u001b[1;32m    439\u001b[0m             \u001b[0;32mif\u001b[0m \u001b[0mstatus\u001b[0m \u001b[0;34m!=\u001b[0m \u001b[0mCONTINUE\u001b[0m\u001b[0;34m:\u001b[0m\u001b[0;34m\u001b[0m\u001b[0m\n\u001b[1;32m    440\u001b[0m                 \u001b[0;32mbreak\u001b[0m\u001b[0;34m\u001b[0m\u001b[0m\n",
      "\u001b[0;32m/Library/Frameworks/Python.framework/Versions/2.7/lib/python2.7/httplib.pyc\u001b[0m in \u001b[0;36m_read_status\u001b[0;34m(self)\u001b[0m\n\u001b[1;32m    392\u001b[0m     \u001b[0;32mdef\u001b[0m \u001b[0m_read_status\u001b[0m\u001b[0;34m(\u001b[0m\u001b[0mself\u001b[0m\u001b[0;34m)\u001b[0m\u001b[0;34m:\u001b[0m\u001b[0;34m\u001b[0m\u001b[0m\n\u001b[1;32m    393\u001b[0m         \u001b[0;31m# Initialize with Simple-Response defaults\u001b[0m\u001b[0;34m\u001b[0m\u001b[0;34m\u001b[0m\u001b[0m\n\u001b[0;32m--> 394\u001b[0;31m         \u001b[0mline\u001b[0m \u001b[0;34m=\u001b[0m \u001b[0mself\u001b[0m\u001b[0;34m.\u001b[0m\u001b[0mfp\u001b[0m\u001b[0;34m.\u001b[0m\u001b[0mreadline\u001b[0m\u001b[0;34m(\u001b[0m\u001b[0m_MAXLINE\u001b[0m \u001b[0;34m+\u001b[0m \u001b[0;36m1\u001b[0m\u001b[0;34m)\u001b[0m\u001b[0;34m\u001b[0m\u001b[0m\n\u001b[0m\u001b[1;32m    395\u001b[0m         \u001b[0;32mif\u001b[0m \u001b[0mlen\u001b[0m\u001b[0;34m(\u001b[0m\u001b[0mline\u001b[0m\u001b[0;34m)\u001b[0m \u001b[0;34m>\u001b[0m \u001b[0m_MAXLINE\u001b[0m\u001b[0;34m:\u001b[0m\u001b[0;34m\u001b[0m\u001b[0m\n\u001b[1;32m    396\u001b[0m             \u001b[0;32mraise\u001b[0m \u001b[0mLineTooLong\u001b[0m\u001b[0;34m(\u001b[0m\u001b[0;34m\"header line\"\u001b[0m\u001b[0;34m)\u001b[0m\u001b[0;34m\u001b[0m\u001b[0m\n",
      "\u001b[0;32m/Library/Frameworks/Python.framework/Versions/2.7/lib/python2.7/socket.pyc\u001b[0m in \u001b[0;36mreadline\u001b[0;34m(self, size)\u001b[0m\n\u001b[1;32m    478\u001b[0m             \u001b[0;32mwhile\u001b[0m \u001b[0mTrue\u001b[0m\u001b[0;34m:\u001b[0m\u001b[0;34m\u001b[0m\u001b[0m\n\u001b[1;32m    479\u001b[0m                 \u001b[0;32mtry\u001b[0m\u001b[0;34m:\u001b[0m\u001b[0;34m\u001b[0m\u001b[0m\n\u001b[0;32m--> 480\u001b[0;31m                     \u001b[0mdata\u001b[0m \u001b[0;34m=\u001b[0m \u001b[0mself\u001b[0m\u001b[0;34m.\u001b[0m\u001b[0m_sock\u001b[0m\u001b[0;34m.\u001b[0m\u001b[0mrecv\u001b[0m\u001b[0;34m(\u001b[0m\u001b[0mself\u001b[0m\u001b[0;34m.\u001b[0m\u001b[0m_rbufsize\u001b[0m\u001b[0;34m)\u001b[0m\u001b[0;34m\u001b[0m\u001b[0m\n\u001b[0m\u001b[1;32m    481\u001b[0m                 \u001b[0;32mexcept\u001b[0m \u001b[0merror\u001b[0m\u001b[0;34m,\u001b[0m \u001b[0me\u001b[0m\u001b[0;34m:\u001b[0m\u001b[0;34m\u001b[0m\u001b[0m\n\u001b[1;32m    482\u001b[0m                     \u001b[0;32mif\u001b[0m \u001b[0me\u001b[0m\u001b[0;34m.\u001b[0m\u001b[0margs\u001b[0m\u001b[0;34m[\u001b[0m\u001b[0;36m0\u001b[0m\u001b[0;34m]\u001b[0m \u001b[0;34m==\u001b[0m \u001b[0mEINTR\u001b[0m\u001b[0;34m:\u001b[0m\u001b[0;34m\u001b[0m\u001b[0m\n",
      "\u001b[0;31mKeyboardInterrupt\u001b[0m: "
     ]
    }
   ],
   "source": [
    "title_content(url_link(inavi),driver)"
   ]
  },
  {
   "cell_type": "markdown",
   "metadata": {},
   "source": [
    "3) 리스트에 크롤링된 url 링크 주소 확인"
   ]
  },
  {
   "cell_type": "markdown",
   "metadata": {},
   "source": [
    "### (2) 불평/불만 내용 리스트 저장"
   ]
  },
  {
   "cell_type": "markdown",
   "metadata": {},
   "source": [
    "1) import 모듈"
   ]
  },
  {
   "cell_type": "code",
   "execution_count": 57,
   "metadata": {
    "collapsed": true
   },
   "outputs": [],
   "source": [
    "from selenium import webdriver"
   ]
  },
  {
   "cell_type": "markdown",
   "metadata": {},
   "source": [
    "2) 블랙박스에 대한 불평/불만 내용을 담을 리스트 생성 (url_content)"
   ]
  },
  {
   "cell_type": "code",
   "execution_count": null,
   "metadata": {
    "collapsed": true
   },
   "outputs": [],
   "source": [
    "#tbody"
   ]
  },
  {
   "cell_type": "code",
   "execution_count": 106,
   "metadata": {},
   "outputs": [],
   "source": [
    "def title_content(url_list,driver):\n",
    "    \n",
    "    global url_title \n",
    "    url_title = []\n",
    "    global url_content \n",
    "    url_content = []\n",
    "    #chromedriver = './chromedriver'\n",
    "    #driver = webdriver.Chrome(chromedriver)\n",
    "    for i in url_list:\n",
    "        #print i\n",
    "        driver.get(i)\n",
    "        try:\n",
    "            #post_171880 > div > div.tit-box > div.fl > table > tbody > tr > td> span\n",
    "            #//*[@id=\"post_171880\"]/div/div[1]/div[1]/table/tbody/tr/td[2]/span\n",
    "            #//*[@id=\"post_171823\"]/div/div[1]/div[1]/table/tbody/tr/td[2]/span\n",
    "            black_title = driver.find_element_by_css_selector(\"tbody > tr > td> span.b m-tcol-c\")\n",
    "            print black_title.text\n",
    "            url_title.append(black_title.text.encode('utf-8'))\n",
    "            print black_title.text.encode('utf-8')\n",
    "            black_content = driver.find_element_by_css_selector(\"div.tbody m-tcol-c\")\n",
    "            #black_content = black_content.text\n",
    "            #black_content = black_content.strip()\n",
    "            url_content.append(black_content.text.encode('utf-8'))\n",
    "        except Exception as e:\n",
    "            print (e , i)\n",
    "    driver.quit()\n",
    "    return url_title, url_content\n",
    "    "
   ]
  },
  {
   "cell_type": "code",
   "execution_count": 61,
   "metadata": {
    "collapsed": true
   },
   "outputs": [],
   "source": [
    "url_title = []"
   ]
  },
  {
   "cell_type": "code",
   "execution_count": 62,
   "metadata": {
    "collapsed": true
   },
   "outputs": [],
   "source": [
    "url_content = []"
   ]
  },
  {
   "cell_type": "code",
   "execution_count": null,
   "metadata": {},
   "outputs": [],
   "source": [
    "#chromedriver = './chromedriver'\n",
    "#driver = webdriver.Chrome(chromedriver)\n",
    "for i in url_list:\n",
    "    #print i\n",
    "    driver.get(i)\n",
    "    try:\n",
    "        #mid_contents > div > table.xe_viewTb > tbody > tr:nth-child(1) > td.xe_viewSj\n",
    "        #//*[@id=\"post_171823\"]/div/div[1]/div[1]/table/tbody/tr/td[2]/span\n",
    "        #black_title = driver.find_element_by_css_selector(\"tbody > tr > td> span.b \")\n",
    "        black_title = driver.find_element_by_xpath(\"\"\"//*[@id=\"post_171823\"]/div/div[1]/div[1]/table/tbody/tr/td[2]/span\"\"\")\n",
    "        #print black_title.text\n",
    "        url_title.append(black_title.text.encode('utf-8'))\n",
    "        black_content = driver.find_element_by_css_selector(\"div.xe_viewMemo\")\n",
    "        #black_content = black_content.text\n",
    "        #black_content = black_content.strip()\n",
    "        url_content.append(black_content.text.encode('utf-8'))\n",
    "    except Exception as e:\n",
    "        print (e , i)\n",
    "driver.quit()"
   ]
  },
  {
   "cell_type": "markdown",
   "metadata": {},
   "source": [
    "3) 리스트에 크롤링된 불평/불만 내용 확인"
   ]
  },
  {
   "cell_type": "code",
   "execution_count": 64,
   "metadata": {},
   "outputs": [
    {
     "name": "stdout",
     "output_type": "stream",
     "text": [
      "121\n"
     ]
    }
   ],
   "source": [
    "print len(url_title)"
   ]
  },
  {
   "cell_type": "code",
   "execution_count": 65,
   "metadata": {},
   "outputs": [
    {
     "name": "stdout",
     "output_type": "stream",
     "text": [
      "121\n"
     ]
    }
   ],
   "source": [
    "print len(url_content)"
   ]
  },
  {
   "cell_type": "code",
   "execution_count": 66,
   "metadata": {},
   "outputs": [
    {
     "name": "stdout",
     "output_type": "stream",
     "text": [
      "아이로드T8 설치후기\n"
     ]
    }
   ],
   "source": [
    "print url_title[1]"
   ]
  },
  {
   "cell_type": "markdown",
   "metadata": {},
   "source": [
    "# 2.정규표현식을 사용하여 크롤링 데이터 전처리"
   ]
  },
  {
   "cell_type": "code",
   "execution_count": 104,
   "metadata": {
    "collapsed": true
   },
   "outputs": [],
   "source": [
    "new_list = []"
   ]
  },
  {
   "cell_type": "code",
   "execution_count": 105,
   "metadata": {},
   "outputs": [
    {
     "data": {
      "text/plain": [
       "121"
      ]
     },
     "execution_count": 105,
     "metadata": {},
     "output_type": "execute_result"
    }
   ],
   "source": [
    "len(url_content)"
   ]
  },
  {
   "cell_type": "code",
   "execution_count": 106,
   "metadata": {
    "collapsed": true,
    "scrolled": false
   },
   "outputs": [],
   "source": [
    "for string in url_content:\n",
    "    replaced = re.sub(r'click=\"\" ( [\\w.-]+) />', r'', string)\n",
    "    #print(string)\n",
    "    replaced = re.sub(r'click=\"\" src=\"http://www.navinside.com/bbs/data/multi_new2011/[\\d.-]+/[\\w.-]+.jpg\" />', r'', string)\n",
    "    #replaced = re.sub(r'click=\"\" src=\"http://www.navinside.com/bbs/data/multi_new2011/[a-zA-Z_0-9]+.jpg\" />', r'', string)\n",
    "    replaced = replaced = re.sub(r'http://[a-zA-Z_0-9_._/_?_=_&]+', r'', replaced)\n",
    "    replaced = re.sub(r'-[_-]+', r'', replaced)\n",
    "    replaced = re.sub(r'=[_=]+', r'', replaced)\n",
    "    replaced = re.sub(r'\"', r'', replaced)\n",
    "    replaced = re.sub(r\"'\", r'', replaced)\n",
    "    #print replaced\n",
    "    new_list.append(replaced)"
   ]
  },
  {
   "cell_type": "code",
   "execution_count": 107,
   "metadata": {},
   "outputs": [
    {
     "name": "stdout",
     "output_type": "stream",
     "text": [
      "121\n"
     ]
    }
   ],
   "source": [
    "print len(new_list)"
   ]
  },
  {
   "cell_type": "markdown",
   "metadata": {},
   "source": [
    "# 3. AWS 서버 mysql db에  import"
   ]
  },
  {
   "cell_type": "code",
   "execution_count": 121,
   "metadata": {
    "collapsed": true
   },
   "outputs": [],
   "source": [
    "server = 'server_ip'\n",
    "db_id = 'root'\n",
    "db_pwd = 'password'\n",
    "db_db = 'db_name'"
   ]
  },
  {
   "cell_type": "code",
   "execution_count": 122,
   "metadata": {
    "collapsed": true
   },
   "outputs": [],
   "source": [
    "import MySQLdb\n",
    "db = MySQLdb.connect(server, db_id, db_pwd, db_db)\n",
    "\n",
    "cursor = db.cursor()"
   ]
  },
  {
   "cell_type": "code",
   "execution_count": 123,
   "metadata": {},
   "outputs": [
    {
     "data": {
      "text/plain": [
       "str"
      ]
     },
     "execution_count": 123,
     "metadata": {},
     "output_type": "execute_result"
    }
   ],
   "source": [
    "type(url_link[34])"
   ]
  },
  {
   "cell_type": "code",
   "execution_count": 124,
   "metadata": {},
   "outputs": [
    {
     "data": {
      "text/plain": [
       "str"
      ]
     },
     "execution_count": 124,
     "metadata": {},
     "output_type": "execute_result"
    }
   ],
   "source": [
    "type(url_title[34])"
   ]
  },
  {
   "cell_type": "code",
   "execution_count": 125,
   "metadata": {},
   "outputs": [
    {
     "data": {
      "text/plain": [
       "str"
      ]
     },
     "execution_count": 125,
     "metadata": {},
     "output_type": "execute_result"
    }
   ],
   "source": [
    "type(url_content[34])"
   ]
  },
  {
   "cell_type": "code",
   "execution_count": 126,
   "metadata": {},
   "outputs": [
    {
     "name": "stdout",
     "output_type": "stream",
     "text": [
      "http://www.navinside.com/bbs/zboard.php?id=forum_ins_blackbox&page=1&sn1=&divpage=15&category=103&sn=off&ss=on&sc=on&select_arrange=headnum&desc=asc&no=77569\n",
      "http://www.navinside.com/bbs/zboard.php?id=forum_ins_blackbox&page=1&sn1=&divpage=15&category=103&sn=off&ss=on&sc=on&select_arrange=headnum&desc=asc&no=77508\n",
      "http://www.navinside.com/bbs/zboard.php?id=forum_ins_blackbox&page=1&sn1=&divpage=15&category=103&sn=off&ss=on&sc=on&select_arrange=headnum&desc=asc&no=76851\n",
      "http://www.navinside.com/bbs/zboard.php?id=forum_ins_blackbox&page=1&sn1=&divpage=15&category=103&sn=off&ss=on&sc=on&select_arrange=headnum&desc=asc&no=76483\n",
      "http://www.navinside.com/bbs/zboard.php?id=forum_ins_blackbox&page=1&sn1=&divpage=15&category=103&sn=off&ss=on&sc=on&select_arrange=headnum&desc=asc&no=75880\n",
      "http://www.navinside.com/bbs/zboard.php?id=forum_ins_blackbox&page=1&sn1=&divpage=15&category=103&sn=off&ss=on&sc=on&select_arrange=headnum&desc=asc&no=74037\n",
      "http://www.navinside.com/bbs/zboard.php?id=forum_ins_blackbox&page=1&sn1=&divpage=15&category=103&sn=off&ss=on&sc=on&select_arrange=headnum&desc=asc&no=73927\n",
      "http://www.navinside.com/bbs/zboard.php?id=forum_ins_blackbox&page=1&sn1=&divpage=15&category=103&sn=off&ss=on&sc=on&select_arrange=headnum&desc=asc&no=73732\n",
      "http://www.navinside.com/bbs/zboard.php?id=forum_ins_blackbox&page=1&sn1=&divpage=15&category=103&sn=off&ss=on&sc=on&select_arrange=headnum&desc=asc&no=73603\n",
      "http://www.navinside.com/bbs/zboard.php?id=forum_ins_blackbox&page=1&sn1=&divpage=15&category=103&sn=off&ss=on&sc=on&select_arrange=headnum&desc=asc&no=70322\n",
      "http://www.navinside.com/bbs/zboard.php?id=forum_ins_blackbox&page=1&sn1=&divpage=15&category=103&sn=off&ss=on&sc=on&select_arrange=headnum&desc=asc&no=69786\n",
      "http://www.navinside.com/bbs/zboard.php?id=forum_ins_blackbox&page=1&sn1=&divpage=15&category=103&sn=off&ss=on&sc=on&select_arrange=headnum&desc=asc&no=64614\n",
      "http://www.navinside.com/bbs/zboard.php?id=forum_ins_blackbox&page=1&sn1=&divpage=15&category=103&sn=off&ss=on&sc=on&select_arrange=headnum&desc=asc&no=60000\n",
      "http://www.navinside.com/bbs/zboard.php?id=forum_ins_blackbox&page=1&sn1=&divpage=15&category=103&sn=off&ss=on&sc=on&select_arrange=headnum&desc=asc&no=59838\n",
      "http://www.navinside.com/bbs/zboard.php?id=forum_ins_blackbox&page=1&sn1=&divpage=15&category=103&sn=off&ss=on&sc=on&select_arrange=headnum&desc=asc&no=58469\n",
      "http://www.navinside.com/bbs/zboard.php?id=forum_ins_blackbox&page=1&sn1=&divpage=15&category=103&sn=off&ss=on&sc=on&select_arrange=headnum&desc=asc&no=58468\n",
      "http://www.navinside.com/bbs/zboard.php?id=forum_ins_blackbox&page=1&sn1=&divpage=15&category=103&sn=off&ss=on&sc=on&select_arrange=headnum&desc=asc&no=58198\n",
      "http://www.navinside.com/bbs/zboard.php?id=forum_ins_blackbox&page=1&sn1=&divpage=15&category=103&sn=off&ss=on&sc=on&select_arrange=headnum&desc=asc&no=58232\n",
      "http://www.navinside.com/bbs/zboard.php?id=forum_ins_blackbox&page=1&sn1=&divpage=15&category=103&sn=off&ss=on&sc=on&select_arrange=headnum&desc=asc&no=56824\n",
      "http://www.navinside.com/bbs/zboard.php?id=forum_ins_blackbox&page=1&sn1=&divpage=15&category=103&sn=off&ss=on&sc=on&select_arrange=headnum&desc=asc&no=56440\n",
      "http://www.navinside.com/bbs/zboard.php?id=forum_ins_blackbox&page=1&sn1=&divpage=15&category=103&sn=off&ss=on&sc=on&select_arrange=headnum&desc=asc&no=56409\n",
      "http://www.navinside.com/bbs/zboard.php?id=forum_ins_blackbox&page=1&sn1=&divpage=15&category=103&sn=off&ss=on&sc=on&select_arrange=headnum&desc=asc&no=56052\n",
      "http://www.navinside.com/bbs/zboard.php?id=forum_ins_blackbox&page=1&sn1=&divpage=15&category=103&sn=off&ss=on&sc=on&select_arrange=headnum&desc=asc&no=56005\n",
      "http://www.navinside.com/bbs/zboard.php?id=forum_ins_blackbox&page=1&sn1=&divpage=15&category=103&sn=off&ss=on&sc=on&select_arrange=headnum&desc=asc&no=55289\n",
      "http://www.navinside.com/bbs/zboard.php?id=forum_ins_blackbox&page=1&sn1=&divpage=15&category=103&sn=off&ss=on&sc=on&select_arrange=headnum&desc=asc&no=54651\n",
      "http://www.navinside.com/bbs/zboard.php?id=forum_ins_blackbox&page=1&sn1=&divpage=15&category=103&sn=off&ss=on&sc=on&select_arrange=headnum&desc=asc&no=54313\n",
      "http://www.navinside.com/bbs/zboard.php?id=forum_ins_blackbox&page=1&sn1=&divpage=15&category=103&sn=off&ss=on&sc=on&select_arrange=headnum&desc=asc&no=52636\n",
      "http://www.navinside.com/bbs/zboard.php?id=forum_ins_blackbox&page=1&sn1=&divpage=15&category=103&sn=off&ss=on&sc=on&select_arrange=headnum&desc=asc&no=50545\n",
      "http://www.navinside.com/bbs/zboard.php?id=forum_ins_blackbox&page=1&sn1=&divpage=15&category=103&sn=off&ss=on&sc=on&select_arrange=headnum&desc=asc&no=50411\n",
      "http://www.navinside.com/bbs/zboard.php?id=forum_ins_blackbox&page=1&sn1=&divpage=15&category=103&sn=off&ss=on&sc=on&select_arrange=headnum&desc=asc&no=50007\n",
      "http://www.navinside.com/bbs/zboard.php?id=forum_ins_blackbox&page=1&sn1=&divpage=15&category=103&sn=off&ss=on&sc=on&select_arrange=headnum&desc=asc&no=49595\n",
      "http://www.navinside.com/bbs/zboard.php?id=forum_ins_blackbox&page=1&sn1=&divpage=15&category=103&sn=off&ss=on&sc=on&select_arrange=headnum&desc=asc&no=49255\n",
      "http://www.navinside.com/bbs/zboard.php?id=forum_ins_blackbox&page=1&sn1=&divpage=15&category=103&sn=off&ss=on&sc=on&select_arrange=headnum&desc=asc&no=49051\n",
      "http://www.navinside.com/bbs/zboard.php?id=forum_ins_blackbox&page=1&sn1=&divpage=15&category=103&sn=off&ss=on&sc=on&select_arrange=headnum&desc=asc&no=48871\n",
      "http://www.navinside.com/bbs/zboard.php?id=forum_ins_blackbox&page=1&sn1=&divpage=15&category=103&sn=off&ss=on&sc=on&select_arrange=headnum&desc=asc&no=48562\n",
      "http://www.navinside.com/bbs/zboard.php?id=forum_ins_blackbox&page=1&sn1=&divpage=15&category=103&sn=off&ss=on&sc=on&select_arrange=headnum&desc=asc&no=48366\n",
      "http://www.navinside.com/bbs/zboard.php?id=forum_ins_blackbox&page=1&sn1=&divpage=15&category=103&sn=off&ss=on&sc=on&select_arrange=headnum&desc=asc&no=48350\n",
      "http://www.navinside.com/bbs/zboard.php?id=forum_ins_blackbox&page=1&sn1=&divpage=15&category=103&sn=off&ss=on&sc=on&select_arrange=headnum&desc=asc&no=48125\n",
      "http://www.navinside.com/bbs/zboard.php?id=forum_ins_blackbox&page=1&sn1=&divpage=15&category=103&sn=off&ss=on&sc=on&select_arrange=headnum&desc=asc&no=48113\n",
      "http://www.navinside.com/bbs/zboard.php?id=forum_ins_blackbox&page=1&sn1=&divpage=15&category=103&sn=off&ss=on&sc=on&select_arrange=headnum&desc=asc&no=48103\n",
      "http://www.navinside.com/bbs/zboard.php?id=forum_ins_blackbox&page=1&sn1=&divpage=15&category=103&sn=off&ss=on&sc=on&select_arrange=headnum&desc=asc&no=48062\n",
      "http://www.navinside.com/bbs/zboard.php?id=forum_ins_blackbox&page=1&sn1=&divpage=15&category=103&sn=off&ss=on&sc=on&select_arrange=headnum&desc=asc&no=47902\n",
      "http://www.navinside.com/bbs/zboard.php?id=forum_ins_blackbox&page=1&sn1=&divpage=15&category=103&sn=off&ss=on&sc=on&select_arrange=headnum&desc=asc&no=47378\n",
      "http://www.navinside.com/bbs/zboard.php?id=forum_ins_blackbox&page=1&sn1=&divpage=15&category=103&sn=off&ss=on&sc=on&select_arrange=headnum&desc=asc&no=47271\n",
      "http://www.navinside.com/bbs/zboard.php?id=forum_ins_blackbox&page=1&sn1=&divpage=15&category=103&sn=off&ss=on&sc=on&select_arrange=headnum&desc=asc&no=47216\n",
      "http://www.navinside.com/bbs/zboard.php?id=forum_ins_blackbox&page=1&sn1=&divpage=15&category=103&sn=off&ss=on&sc=on&select_arrange=headnum&desc=asc&no=47016\n",
      "http://www.navinside.com/bbs/zboard.php?id=forum_ins_blackbox&page=1&sn1=&divpage=15&category=103&sn=off&ss=on&sc=on&select_arrange=headnum&desc=asc&no=45844\n",
      "http://www.navinside.com/bbs/zboard.php?id=forum_ins_blackbox&page=1&sn1=&divpage=15&category=103&sn=off&ss=on&sc=on&select_arrange=headnum&desc=asc&no=45734\n",
      "http://www.navinside.com/bbs/zboard.php?id=forum_ins_blackbox&page=1&sn1=&divpage=15&category=103&sn=off&ss=on&sc=on&select_arrange=headnum&desc=asc&no=45592\n",
      "http://www.navinside.com/bbs/zboard.php?id=forum_ins_blackbox&page=1&sn1=&divpage=15&category=103&sn=off&ss=on&sc=on&select_arrange=headnum&desc=asc&no=45118\n",
      "http://www.navinside.com/bbs/zboard.php?id=forum_ins_blackbox&page=2&sn1=&divpage=15&category=103&sn=off&ss=on&sc=on&select_arrange=headnum&desc=asc&no=44964\n",
      "http://www.navinside.com/bbs/zboard.php?id=forum_ins_blackbox&page=2&sn1=&divpage=15&category=103&sn=off&ss=on&sc=on&select_arrange=headnum&desc=asc&no=44941\n"
     ]
    },
    {
     "name": "stdout",
     "output_type": "stream",
     "text": [
      "http://www.navinside.com/bbs/zboard.php?id=forum_ins_blackbox&page=2&sn1=&divpage=15&category=103&sn=off&ss=on&sc=on&select_arrange=headnum&desc=asc&no=43201\n",
      "http://www.navinside.com/bbs/zboard.php?id=forum_ins_blackbox&page=2&sn1=&divpage=15&category=103&sn=off&ss=on&sc=on&select_arrange=headnum&desc=asc&no=43157\n",
      "http://www.navinside.com/bbs/zboard.php?id=forum_ins_blackbox&page=2&sn1=&divpage=15&category=103&sn=off&ss=on&sc=on&select_arrange=headnum&desc=asc&no=42987\n",
      "http://www.navinside.com/bbs/zboard.php?id=forum_ins_blackbox&page=2&sn1=&divpage=15&category=103&sn=off&ss=on&sc=on&select_arrange=headnum&desc=asc&no=42690\n",
      "http://www.navinside.com/bbs/zboard.php?id=forum_ins_blackbox&page=2&sn1=&divpage=15&category=103&sn=off&ss=on&sc=on&select_arrange=headnum&desc=asc&no=41284\n",
      "http://www.navinside.com/bbs/zboard.php?id=forum_ins_blackbox&page=2&sn1=&divpage=15&category=103&sn=off&ss=on&sc=on&select_arrange=headnum&desc=asc&no=39904\n",
      "http://www.navinside.com/bbs/zboard.php?id=forum_ins_blackbox&page=2&sn1=&divpage=15&category=103&sn=off&ss=on&sc=on&select_arrange=headnum&desc=asc&no=39631\n",
      "http://www.navinside.com/bbs/zboard.php?id=forum_ins_blackbox&page=2&sn1=&divpage=15&category=103&sn=off&ss=on&sc=on&select_arrange=headnum&desc=asc&no=39376\n",
      "(1406, \"Data too long for column 'content' at row 1\")\n",
      "http://www.navinside.com/bbs/zboard.php?id=forum_ins_blackbox&page=2&sn1=&divpage=15&category=103&sn=off&ss=on&sc=on&select_arrange=headnum&desc=asc&no=39211\n",
      "http://www.navinside.com/bbs/zboard.php?id=forum_ins_blackbox&page=2&sn1=&divpage=15&category=103&sn=off&ss=on&sc=on&select_arrange=headnum&desc=asc&no=38634\n",
      "http://www.navinside.com/bbs/zboard.php?id=forum_ins_blackbox&page=2&sn1=&divpage=15&category=103&sn=off&ss=on&sc=on&select_arrange=headnum&desc=asc&no=37344\n",
      "http://www.navinside.com/bbs/zboard.php?id=forum_ins_blackbox&page=2&sn1=&divpage=15&category=103&sn=off&ss=on&sc=on&select_arrange=headnum&desc=asc&no=37247\n",
      "http://www.navinside.com/bbs/zboard.php?id=forum_ins_blackbox&page=2&sn1=&divpage=15&category=103&sn=off&ss=on&sc=on&select_arrange=headnum&desc=asc&no=37134\n",
      "http://www.navinside.com/bbs/zboard.php?id=forum_ins_blackbox&page=2&sn1=&divpage=15&category=103&sn=off&ss=on&sc=on&select_arrange=headnum&desc=asc&no=36800\n",
      "http://www.navinside.com/bbs/zboard.php?id=forum_ins_blackbox&page=2&sn1=&divpage=15&category=103&sn=off&ss=on&sc=on&select_arrange=headnum&desc=asc&no=36457\n",
      "http://www.navinside.com/bbs/zboard.php?id=forum_ins_blackbox&page=2&sn1=&divpage=15&category=103&sn=off&ss=on&sc=on&select_arrange=headnum&desc=asc&no=36207\n",
      "http://www.navinside.com/bbs/zboard.php?id=forum_ins_blackbox&page=2&sn1=&divpage=15&category=103&sn=off&ss=on&sc=on&select_arrange=headnum&desc=asc&no=36181\n",
      "http://www.navinside.com/bbs/zboard.php?id=forum_ins_blackbox&page=2&sn1=&divpage=15&category=103&sn=off&ss=on&sc=on&select_arrange=headnum&desc=asc&no=36048\n",
      "http://www.navinside.com/bbs/zboard.php?id=forum_ins_blackbox&page=2&sn1=&divpage=15&category=103&sn=off&ss=on&sc=on&select_arrange=headnum&desc=asc&no=35990\n",
      "http://www.navinside.com/bbs/zboard.php?id=forum_ins_blackbox&page=2&sn1=&divpage=15&category=103&sn=off&ss=on&sc=on&select_arrange=headnum&desc=asc&no=35704\n",
      "http://www.navinside.com/bbs/zboard.php?id=forum_ins_blackbox&page=2&sn1=&divpage=15&category=103&sn=off&ss=on&sc=on&select_arrange=headnum&desc=asc&no=35619\n",
      "http://www.navinside.com/bbs/zboard.php?id=forum_ins_blackbox&page=2&sn1=&divpage=15&category=103&sn=off&ss=on&sc=on&select_arrange=headnum&desc=asc&no=33499\n",
      "http://www.navinside.com/bbs/zboard.php?id=forum_ins_blackbox&page=2&sn1=&divpage=15&category=103&sn=off&ss=on&sc=on&select_arrange=headnum&desc=asc&no=33146\n",
      "http://www.navinside.com/bbs/zboard.php?id=forum_ins_blackbox&page=2&sn1=&divpage=15&category=103&sn=off&ss=on&sc=on&select_arrange=headnum&desc=asc&no=32883\n",
      "http://www.navinside.com/bbs/zboard.php?id=forum_ins_blackbox&page=2&sn1=&divpage=15&category=103&sn=off&ss=on&sc=on&select_arrange=headnum&desc=asc&no=32770\n",
      "http://www.navinside.com/bbs/zboard.php?id=forum_ins_blackbox&page=2&sn1=&divpage=15&category=103&sn=off&ss=on&sc=on&select_arrange=headnum&desc=asc&no=32149\n",
      "http://www.navinside.com/bbs/zboard.php?id=forum_ins_blackbox&page=2&sn1=&divpage=15&category=103&sn=off&ss=on&sc=on&select_arrange=headnum&desc=asc&no=31856\n",
      "http://www.navinside.com/bbs/zboard.php?id=forum_ins_blackbox&page=2&sn1=&divpage=15&category=103&sn=off&ss=on&sc=on&select_arrange=headnum&desc=asc&no=31793\n",
      "http://www.navinside.com/bbs/zboard.php?id=forum_ins_blackbox&page=2&sn1=&divpage=15&category=103&sn=off&ss=on&sc=on&select_arrange=headnum&desc=asc&no=31576\n",
      "http://www.navinside.com/bbs/zboard.php?id=forum_ins_blackbox&page=2&sn1=&divpage=15&category=103&sn=off&ss=on&sc=on&select_arrange=headnum&desc=asc&no=31524\n",
      "http://www.navinside.com/bbs/zboard.php?id=forum_ins_blackbox&page=2&sn1=&divpage=15&category=103&sn=off&ss=on&sc=on&select_arrange=headnum&desc=asc&no=31020\n",
      "http://www.navinside.com/bbs/zboard.php?id=forum_ins_blackbox&page=2&sn1=&divpage=15&category=103&sn=off&ss=on&sc=on&select_arrange=headnum&desc=asc&no=30592\n",
      "http://www.navinside.com/bbs/zboard.php?id=forum_ins_blackbox&page=2&sn1=&divpage=15&category=103&sn=off&ss=on&sc=on&select_arrange=headnum&desc=asc&no=30020\n",
      "http://www.navinside.com/bbs/zboard.php?id=forum_ins_blackbox&page=2&sn1=&divpage=15&category=103&sn=off&ss=on&sc=on&select_arrange=headnum&desc=asc&no=29809\n",
      "http://www.navinside.com/bbs/zboard.php?id=forum_ins_blackbox&page=2&sn1=&divpage=15&category=103&sn=off&ss=on&sc=on&select_arrange=headnum&desc=asc&no=29152\n",
      "http://www.navinside.com/bbs/zboard.php?id=forum_ins_blackbox&page=2&sn1=&divpage=15&category=103&sn=off&ss=on&sc=on&select_arrange=headnum&desc=asc&no=28901\n",
      "http://www.navinside.com/bbs/zboard.php?id=forum_ins_blackbox&page=2&sn1=&divpage=15&category=103&sn=off&ss=on&sc=on&select_arrange=headnum&desc=asc&no=28761\n",
      "http://www.navinside.com/bbs/zboard.php?id=forum_ins_blackbox&page=2&sn1=&divpage=15&category=103&sn=off&ss=on&sc=on&select_arrange=headnum&desc=asc&no=28524\n",
      "http://www.navinside.com/bbs/zboard.php?id=forum_ins_blackbox&page=2&sn1=&divpage=15&category=103&sn=off&ss=on&sc=on&select_arrange=headnum&desc=asc&no=28158\n",
      "http://www.navinside.com/bbs/zboard.php?id=forum_ins_blackbox&page=2&sn1=&divpage=15&category=103&sn=off&ss=on&sc=on&select_arrange=headnum&desc=asc&no=28054\n",
      "http://www.navinside.com/bbs/zboard.php?id=forum_ins_blackbox&page=2&sn1=&divpage=15&category=103&sn=off&ss=on&sc=on&select_arrange=headnum&desc=asc&no=27928\n",
      "http://www.navinside.com/bbs/zboard.php?id=forum_ins_blackbox&page=2&sn1=&divpage=15&category=103&sn=off&ss=on&sc=on&select_arrange=headnum&desc=asc&no=27724\n",
      "http://www.navinside.com/bbs/zboard.php?id=forum_ins_blackbox&page=2&sn1=&divpage=15&category=103&sn=off&ss=on&sc=on&select_arrange=headnum&desc=asc&no=26804\n",
      "http://www.navinside.com/bbs/zboard.php?id=forum_ins_blackbox&page=2&sn1=&divpage=15&category=103&sn=off&ss=on&sc=on&select_arrange=headnum&desc=asc&no=26782\n",
      "http://www.navinside.com/bbs/zboard.php?id=forum_ins_blackbox&page=2&sn1=&divpage=15&category=103&sn=off&ss=on&sc=on&select_arrange=headnum&desc=asc&no=26775\n",
      "http://www.navinside.com/bbs/zboard.php?id=forum_ins_blackbox&page=2&sn1=&divpage=15&category=103&sn=off&ss=on&sc=on&select_arrange=headnum&desc=asc&no=26762\n",
      "http://www.navinside.com/bbs/zboard.php?id=forum_ins_blackbox&page=2&sn1=&divpage=15&category=103&sn=off&ss=on&sc=on&select_arrange=headnum&desc=asc&no=26702\n",
      "http://www.navinside.com/bbs/zboard.php?id=forum_ins_blackbox&page=2&sn1=&divpage=15&category=103&sn=off&ss=on&sc=on&select_arrange=headnum&desc=asc&no=26561\n",
      "http://www.navinside.com/bbs/zboard.php?id=forum_ins_blackbox&page=3&sn1=&divpage=15&category=103&sn=off&ss=on&sc=on&select_arrange=headnum&desc=asc&no=26532\n",
      "http://www.navinside.com/bbs/zboard.php?id=forum_ins_blackbox&page=3&sn1=&divpage=15&category=103&sn=off&ss=on&sc=on&select_arrange=headnum&desc=asc&no=26524\n",
      "http://www.navinside.com/bbs/zboard.php?id=forum_ins_blackbox&page=3&sn1=&divpage=15&category=103&sn=off&ss=on&sc=on&select_arrange=headnum&desc=asc&no=26217\n",
      "http://www.navinside.com/bbs/zboard.php?id=forum_ins_blackbox&page=3&sn1=&divpage=15&category=103&sn=off&ss=on&sc=on&select_arrange=headnum&desc=asc&no=25757\n"
     ]
    },
    {
     "name": "stdout",
     "output_type": "stream",
     "text": [
      "http://www.navinside.com/bbs/zboard.php?id=forum_ins_blackbox&page=3&sn1=&divpage=15&category=103&sn=off&ss=on&sc=on&select_arrange=headnum&desc=asc&no=25525\n",
      "http://www.navinside.com/bbs/zboard.php?id=forum_ins_blackbox&page=3&sn1=&divpage=15&category=103&sn=off&ss=on&sc=on&select_arrange=headnum&desc=asc&no=25528\n",
      "http://www.navinside.com/bbs/zboard.php?id=forum_ins_blackbox&page=3&sn1=&divpage=15&category=103&sn=off&ss=on&sc=on&select_arrange=headnum&desc=asc&no=25524\n",
      "http://www.navinside.com/bbs/zboard.php?id=forum_ins_blackbox&page=3&sn1=&divpage=15&category=103&sn=off&ss=on&sc=on&select_arrange=headnum&desc=asc&no=25047\n",
      "http://www.navinside.com/bbs/zboard.php?id=forum_ins_blackbox&page=3&sn1=&divpage=15&category=103&sn=off&ss=on&sc=on&select_arrange=headnum&desc=asc&no=25013\n",
      "http://www.navinside.com/bbs/zboard.php?id=forum_ins_blackbox&page=3&sn1=&divpage=15&category=103&sn=off&ss=on&sc=on&select_arrange=headnum&desc=asc&no=24883\n",
      "http://www.navinside.com/bbs/zboard.php?id=forum_ins_blackbox&page=3&sn1=&divpage=15&category=103&sn=off&ss=on&sc=on&select_arrange=headnum&desc=asc&no=24653\n",
      "http://www.navinside.com/bbs/zboard.php?id=forum_ins_blackbox&page=3&sn1=&divpage=15&category=103&sn=off&ss=on&sc=on&select_arrange=headnum&desc=asc&no=24467\n",
      "http://www.navinside.com/bbs/zboard.php?id=forum_ins_blackbox&page=3&sn1=&divpage=15&category=103&sn=off&ss=on&sc=on&select_arrange=headnum&desc=asc&no=23907\n",
      "http://www.navinside.com/bbs/zboard.php?id=forum_ins_blackbox&page=3&sn1=&divpage=15&category=103&sn=off&ss=on&sc=on&select_arrange=headnum&desc=asc&no=23716\n",
      "http://www.navinside.com/bbs/zboard.php?id=forum_ins_blackbox&page=3&sn1=&divpage=15&category=103&sn=off&ss=on&sc=on&select_arrange=headnum&desc=asc&no=23689\n",
      "http://www.navinside.com/bbs/zboard.php?id=forum_ins_blackbox&page=3&sn1=&divpage=15&category=103&sn=off&ss=on&sc=on&select_arrange=headnum&desc=asc&no=23674\n",
      "http://www.navinside.com/bbs/zboard.php?id=forum_ins_blackbox&page=3&sn1=&divpage=15&category=103&sn=off&ss=on&sc=on&select_arrange=headnum&desc=asc&no=23611\n",
      "http://www.navinside.com/bbs/zboard.php?id=forum_ins_blackbox&page=3&sn1=&divpage=15&category=103&sn=off&ss=on&sc=on&select_arrange=headnum&desc=asc&no=23413\n",
      "http://www.navinside.com/bbs/zboard.php?id=forum_ins_blackbox&page=3&sn1=&divpage=15&category=103&sn=off&ss=on&sc=on&select_arrange=headnum&desc=asc&no=23331\n",
      "http://www.navinside.com/bbs/zboard.php?id=forum_ins_blackbox&page=3&sn1=&divpage=15&category=103&sn=off&ss=on&sc=on&select_arrange=headnum&desc=asc&no=22991\n",
      "http://www.navinside.com/bbs/zboard.php?id=forum_ins_blackbox&page=3&sn1=&divpage=15&category=103&sn=off&ss=on&sc=on&select_arrange=headnum&desc=asc&no=22958\n"
     ]
    }
   ],
   "source": [
    "for i in range(len(new_list)):\n",
    "    try:\n",
    "        #print url_link[i]\n",
    "        query = \"\"\"INSERT INTO blackbox VALUES \\\n",
    "        ({}, '네비인사이드' , '{}' ,'{}','{}','negative');\"\"\".format(i , url_link[i], url_title[i], new_list[i])\n",
    "        cursor.execute(query)\n",
    "    except Exception as e:\n",
    "        db.rollback()\n",
    "        print (e)\n",
    "\n",
    "db.commit()\n",
    "cursor.close()\n",
    "\n",
    "    # disconnect from server\n",
    "db.close()"
   ]
  }
 ],
 "metadata": {
  "kernelspec": {
   "display_name": "Python 2",
   "language": "python",
   "name": "python2"
  },
  "language_info": {
   "codemirror_mode": {
    "name": "ipython",
    "version": 2
   },
   "file_extension": ".py",
   "mimetype": "text/x-python",
   "name": "python",
   "nbconvert_exporter": "python",
   "pygments_lexer": "ipython2",
   "version": "2.7.13"
  }
 },
 "nbformat": 4,
 "nbformat_minor": 2
}
